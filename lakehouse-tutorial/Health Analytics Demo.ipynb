{
 "cells": [
  {
   "cell_type": "markdown",
   "metadata": {
    "application/vnd.databricks.v1+cell": {
     "cellMetadata": {
      "byteLimit": 2048000,
      "rowLimit": 10000
     },
     "inputWidgets": {},
     "nuid": "20f8dc15-060f-400f-ae77-a52246c38fb2",
     "showTitle": false,
     "tableResultSettingsMap": {},
     "title": ""
    }
   },
   "source": [
    "# \uD83C\uDFD7️ Build Your First Data Lakehouse with Apple Health Data\n",
    "\n",
    "**Learn production-grade data architecture using your personal health data**\n",
    "\n",
    "## \uD83C\uDFDB️ Lakehouse Architecture Following Databricks Reference\n",
    "\n",
    "This project implements the **Medallion Architecture** with **Unity Catalog integration**:\n",
    "\n",
    "```\n",
    "Data Sources → Object Storage → \uD83E\uDD49 Bronze → \uD83E\uDD48 Silver → \uD83E\uDD47 Gold → Consumption Layer\n",
    "(Apple Health)   (Workspace)    (Delta)    (Delta)    (Delta)  (Analytics/ML)\n",
    "```\n",
    "\n",
    "### Architecture Components We'll Build:\n",
    "- **\uD83D\uDCF1 Data Sources**: Apple Health XML exports (600K+ records)\n",
    "- **\uD83D\uDDC4️ Object Storage**: Databricks workspace file system  \n",
    "- **\uD83D\uDD3A Delta Tables**: ACID transactions across Bronze/Silver/Gold layers\n",
    "- **\uD83C\uDFDB️ Unity Catalog**: Centralized metadata and governance (3-level namespace)\n",
    "- **\uD83D\uDCCA Consumption Layer**: Data Marts, Analytics, ML-ready features\n",
    "\n",
    "### Why this matters:\n",
    "Same patterns used by **Netflix**, **Spotify**, **Airbnb** for processing billions of records"
   ]
  },
  {
   "cell_type": "markdown",
   "metadata": {
    "application/vnd.databricks.v1+cell": {
     "cellMetadata": {
      "byteLimit": 2048000,
      "rowLimit": 10000
     },
     "inputWidgets": {},
     "nuid": "776972f4-f9ff-4562-b0e1-89385a87ab02",
     "showTitle": false,
     "tableResultSettingsMap": {},
     "title": ""
    }
   },
   "source": [
    "## \uD83D\uDCDA Part 1: Why Lakehouse Architecture?\n",
    "\n",
    "### The Evolution of Data Architecture\n",
    "\n",
    "| Era | Technology | Strengths | Limitations |\n",
    "|-----|------------|-----------|-------------|\n",
    "| **1980s-2000s** | Databases | ACID transactions | Can't handle analytics scale |\n",
    "| **2000s-2010s** | Data Warehouses | BI & analytics | Expensive, rigid schemas |\n",
    "| **2010s** | Data Lakes | Store everything cheaply | Become \"data swamps\" |\n",
    "| **2020s+** | **Lakehouses** | **Best of both worlds** | **Modern solution** |\n",
    "\n",
    "### Why Your Apple Health Data Needs a Lakehouse:\n",
    "- **Variety**: XML, JSON, time series data\n",
    "- **Volume**: Years of minute-by-minute measurements  \n",
    "- **Schema Evolution**: Apple adds new health metrics over time\n"
   ]
  },
  {
   "cell_type": "markdown",
   "metadata": {
    "application/vnd.databricks.v1+cell": {
     "cellMetadata": {
      "byteLimit": 2048000,
      "rowLimit": 10000
     },
     "inputWidgets": {},
     "nuid": "f0ccf3e6-cf1e-405f-91f9-ef66c024bc3c",
     "showTitle": false,
     "tableResultSettingsMap": {},
     "title": ""
    }
   },
   "source": [
    "## \uD83C\uDFDB️ Setup Unity Catalog Structure\n",
    "\n",
    "Unity Catalog provides a 3-level namespace (catalog.schema.table) for organizing and securing data assets.\n",
    "Let's create our catalog and schema structure for the Apple Health data.\n",
    "\n"
   ]
  },
  {
   "cell_type": "code",
   "execution_count": 0,
   "metadata": {
    "application/vnd.databricks.v1+cell": {
     "cellMetadata": {
      "byteLimit": 2048000,
      "implicitDf": true,
      "rowLimit": 10000
     },
     "inputWidgets": {},
     "nuid": "2e63ff69-1f08-41b7-9e84-92114a19169a",
     "showTitle": false,
     "tableResultSettingsMap": {},
     "title": ""
    }
   },
   "outputs": [
    {
     "output_type": "display_data",
     "data": {
      "text/html": [
       "<style scoped>\n",
       "  .table-result-container {\n",
       "    max-height: 300px;\n",
       "    overflow: auto;\n",
       "  }\n",
       "  table, th, td {\n",
       "    border: 1px solid black;\n",
       "    border-collapse: collapse;\n",
       "  }\n",
       "  th, td {\n",
       "    padding: 5px;\n",
       "  }\n",
       "  th {\n",
       "    text-align: left;\n",
       "  }\n",
       "</style><div class='table-result-container'><table class='table-result'><thead style='background-color: white'><tr><th>databaseName</th></tr></thead><tbody><tr><td>bronze</td></tr><tr><td>default</td></tr><tr><td>gold</td></tr><tr><td>information_schema</td></tr><tr><td>silver</td></tr></tbody></table></div>"
      ]
     },
     "metadata": {
      "application/vnd.databricks.v1+output": {
       "addedWidgets": {},
       "aggData": [],
       "aggError": "",
       "aggOverflow": false,
       "aggSchema": [],
       "aggSeriesLimitReached": false,
       "aggType": "",
       "arguments": {},
       "columnCustomDisplayInfos": {},
       "data": [
        [
         "bronze"
        ],
        [
         "default"
        ],
        [
         "gold"
        ],
        [
         "information_schema"
        ],
        [
         "silver"
        ]
       ],
       "datasetInfos": [
        {
         "name": "_sqldf",
         "schema": {
          "fields": [
           {
            "metadata": {},
            "name": "databaseName",
            "nullable": false,
            "type": "string"
           }
          ],
          "type": "struct"
         },
         "tableIdentifier": null,
         "typeStr": "pyspark.sql.connect.dataframe.DataFrame"
        }
       ],
       "dbfsResultPath": null,
       "isJsonSchema": true,
       "metadata": {
        "createTempViewForImplicitDf": true,
        "dataframeName": "_sqldf",
        "executionCount": 3
       },
       "overflow": false,
       "plotOptions": {
        "customPlotOptions": {},
        "displayType": "table",
        "pivotAggregation": null,
        "pivotColumns": null,
        "xColumns": null,
        "yColumns": null
       },
       "removedWidgets": [],
       "schema": [
        {
         "metadata": "{}",
         "name": "databaseName",
         "type": "\"string\""
        }
       ],
       "type": "table"
      }
     },
     "output_type": "display_data"
    }
   ],
   "source": [
    "%sql\n",
    "-- Unity Catalog Setup\n",
    "CREATE CATALOG IF NOT EXISTS health_data;\n",
    "CREATE SCHEMA IF NOT EXISTS health_data.bronze;\n",
    "CREATE SCHEMA IF NOT EXISTS health_data.silver; \n",
    "CREATE SCHEMA IF NOT EXISTS health_data.gold;\n",
    "\n",
    "CREATE VOLUME IF NOT EXISTS health_data.bronze.raw_files\n",
    "COMMENT 'Volume for raw health XML data files';\n",
    "\n",
    "USE health_data.bronze;\n",
    "\n",
    "-- Display the Unity Catalog structure\n",
    "SHOW SCHEMAS IN health_data;"
   ]
  },
  {
   "cell_type": "code",
   "execution_count": 0,
   "metadata": {
    "application/vnd.databricks.v1+cell": {
     "cellMetadata": {
      "byteLimit": 2048000,
      "rowLimit": 10000
     },
     "inputWidgets": {},
     "nuid": "dfc8996c-ea17-4932-bc5a-5691075a7cd1",
     "showTitle": false,
     "tableResultSettingsMap": {},
     "title": ""
    }
   },
   "outputs": [
    {
     "output_type": "stream",
     "name": "stdout",
     "output_type": "stream",
     "text": [
      "✅ Spark 4.0.0 ready for distributed processing!\n"
     ]
    },
    {
     "output_type": "execute_result",
     "data": {
      "text/plain": [
       "'/Volumes/health_data/bronze/raw_files/export.xml'"
      ]
     },
     "execution_count": 4,
     "metadata": {},
     "output_type": "execute_result"
    }
   ],
   "source": [
    "import shutil\n",
    "\n",
    "print(f\"✅ Spark {spark.version} ready for distributed processing!\")\n",
    "\n",
    "# Copy file to Unity Catalog Volume\n",
    "source_file = \"export.xml\" #if you are using your export file replace this export.xml\n",
    "destination_file = \"/Volumes/health_data/bronze/raw_files/\"+source_file\n",
    "\n",
    "shutil.copy2(source_file, destination_file)"
   ]
  },
  {
   "cell_type": "markdown",
   "metadata": {
    "application/vnd.databricks.v1+cell": {
     "cellMetadata": {
      "byteLimit": 2048000,
      "rowLimit": 10000
     },
     "inputWidgets": {},
     "nuid": "74b0afb4-8ecf-45db-8142-221a4f647a5d",
     "showTitle": false,
     "tableResultSettingsMap": {},
     "title": ""
    }
   },
   "source": [
    "## \uD83E\uDD49 Bronze Layer: Raw Data Ingestion\n",
    "\n",
    "**Implementing the first stage of Medallion Architecture with Unity Catalog**\n",
    "\n",
    "```\n",
    "Apple Health XML → Object Storage → Unity Catalog (health_data.bronze.apple_health)\n",
    "```\n",
    "\n",
    "- **Purpose**: Store raw data exactly as received from source systems\n",
    "- **Format**: Delta Table with ACID transactions\n",
    "- **Governance**: Unity Catalog metadata management\n",
    "- **Features**: Audit trail, disaster recovery, time travel\n"
   ]
  },
  {
   "cell_type": "code",
   "execution_count": 0,
   "metadata": {
    "application/vnd.databricks.v1+cell": {
     "cellMetadata": {
      "byteLimit": 2048000,
      "rowLimit": 10000
     },
     "inputWidgets": {},
     "nuid": "a47917ca-45f0-4ada-905a-4cacdb8fe75b",
     "showTitle": false,
     "tableResultSettingsMap": {},
     "title": ""
    }
   },
   "outputs": [
    {
     "output_type": "stream",
     "name": "stdout",
     "output_type": "stream",
     "text": [
      "Total records: 608,102\n+-----------------------+-------------------+------+-------------------+----------+-------------+-------------------+--------------------------------+----+-------+\n|MetadataEntry          |creationDate       |device|endDate            |sourceName|sourceVersion|startDate          |type                            |unit|value  |\n+-----------------------+-------------------+------+-------------------+----------+-------------+-------------------+--------------------------------+----+-------+\n|NULL                   |2019-10-18 11:13:23|NULL  |2019-10-18 11:13:23|Health    |13.1.2       |2019-10-18 11:13:23|HKQuantityTypeIdentifierHeight  |ft  |5.58333|\n|[{HKWasUserEntered, 1}]|2023-08-14 13:44:55|NULL  |2023-08-14 13:44:00|Health    |16.6         |2023-08-14 13:44:00|HKQuantityTypeIdentifierBodyMass|lb  |127.8  |\n|[{HKWasUserEntered, 1}]|2023-08-15 15:56:53|NULL  |2023-08-15 15:56:00|Health    |16.6         |2023-08-15 15:56:00|HKQuantityTypeIdentifierBodyMass|lb  |127.8  |\n+-----------------------+-------------------+------+-------------------+----------+-------------+-------------------+--------------------------------+----+-------+\nonly showing top 3 rows\n\n\uD83D\uDCCB Final Schema:\nroot\n |-- MetadataEntry: array (nullable = true)\n |    |-- element: struct (containsNull = true)\n |    |    |-- key: string (nullable = true)\n |    |    |-- value: string (nullable = true)\n |-- creationDate: timestamp (nullable = true)\n |-- device: string (nullable = true)\n |-- endDate: timestamp (nullable = true)\n |-- sourceName: string (nullable = true)\n |-- sourceVersion: string (nullable = true)\n |-- startDate: timestamp (nullable = true)\n |-- type: string (nullable = true)\n |-- unit: string (nullable = true)\n |-- value: string (nullable = true)\n\n"
     ]
    }
   ],
   "source": [
    "# Read XML from Unity Catalog Volume using Spark XML\n",
    "df_parsed = spark.read \\\n",
    "    .option(\"rowTag\", \"Record\") \\\n",
    "    .option(\"attributePrefix\", \"\") \\\n",
    "    .option(\"valueTag\", \"_VALUE\") \\\n",
    "    .option(\"inferSchema\", \"true\") \\\n",
    "    .option(\"mode\", \"PERMISSIVE\") \\\n",
    "    .format(\"xml\") \\\n",
    "    .load(destination_file)\n",
    "\n",
    "# Check total records parsed\n",
    "total_records = df_parsed.count()\n",
    "print(f\"Total records: {total_records:,}\")\n",
    "\n",
    "# Preview the data\n",
    "df_parsed.show(3, truncate=False)\n",
    "\n",
    "# Create temp view for SQL queries\n",
    "df_parsed.createOrReplaceTempView(\"raw_health_records\")\n",
    "\n",
    "# Display schema\n",
    "print(\"\\n\uD83D\uDCCB Final Schema:\")\n",
    "df_parsed.printSchema()"
   ]
  },
  {
   "cell_type": "code",
   "execution_count": 0,
   "metadata": {
    "application/vnd.databricks.v1+cell": {
     "cellMetadata": {
      "byteLimit": 2048000,
      "rowLimit": 10000
     },
     "inputWidgets": {},
     "nuid": "a80f9b0e-a175-4faf-aa54-88622a0f62d4",
     "showTitle": false,
     "tableResultSettingsMap": {},
     "title": ""
    }
   },
   "outputs": [
    {
     "output_type": "stream",
     "name": "stdout",
     "output_type": "stream",
     "text": [
      "Bronze table will contain 608,102 records\n✅ Bronze Delta table created: health_data.bronze.apple_health\n"
     ]
    }
   ],
   "source": [
    "# Transform raw data into Bronze Delta Table with metadata\n",
    "# Create Bronze table with additional metadata columns\n",
    "\n",
    "bronze_df = spark.sql(f\"\"\"\n",
    "    SELECT\n",
    "        *,\n",
    "        current_timestamp() AS ingestion_timestamp,\n",
    "        'export.xml' AS source_file,\n",
    "        'bronze' AS layer,\n",
    "        'Apple Health' AS source_system,\n",
    "        {total_records} AS total_records_in_file\n",
    "    FROM raw_health_records\n",
    "\"\"\")\n",
    "\n",
    "print(f\"Bronze table will contain {bronze_df.count():,} records\")\n",
    "\n",
    "# Write to Delta Lake table in Unity Catalog\n",
    "bronze_df.write \\\n",
    "    .format(\"delta\") \\\n",
    "    .mode(\"overwrite\") \\\n",
    "    .option(\"overwriteSchema\", \"true\") \\\n",
    "    .saveAsTable(\"health_data.bronze.apple_health\")\n",
    "\n",
    "print(\"✅ Bronze Delta table created: health_data.bronze.apple_health\")"
   ]
  },
  {
   "cell_type": "markdown",
   "metadata": {
    "application/vnd.databricks.v1+cell": {
     "cellMetadata": {
      "byteLimit": 2048000,
      "rowLimit": 10000
     },
     "inputWidgets": {},
     "nuid": "b30f83a4-2571-4307-84ac-e64d2107aa3c",
     "showTitle": false,
     "tableResultSettingsMap": {},
     "title": ""
    }
   },
   "source": [
    "### Bronze Layer Metadata and Documentation\n",
    "\n",
    "Adding table properties and comments improves discoverability and governance in Unity Catalog.\n"
   ]
  },
  {
   "cell_type": "code",
   "execution_count": 0,
   "metadata": {
    "application/vnd.databricks.v1+cell": {
     "cellMetadata": {
      "byteLimit": 2048000,
      "rowLimit": 10000
     },
     "inputWidgets": {},
     "nuid": "72c78908-a6a2-424a-9697-d536483c77aa",
     "showTitle": false,
     "tableResultSettingsMap": {},
     "title": ""
    }
   },
   "outputs": [
    {
     "output_type": "stream",
     "name": "stdout",
     "output_type": "stream",
     "text": [
      "✅ Table properties and column comments added\n"
     ]
    }
   ],
   "source": [
    "# Add table properties for optimization and governance\n",
    "spark.sql(\"\"\"\n",
    "    ALTER TABLE health_data.bronze.apple_health \n",
    "    SET TBLPROPERTIES (\n",
    "        'delta.autoOptimize.optimizeWrite' = 'true',\n",
    "        'delta.autoOptimize.autoCompact' = 'true',\n",
    "        'description' = 'Raw Apple Health data ingested from XML export file'\n",
    "    )\n",
    "\"\"\")\n",
    "\n",
    "# Add column descriptions for data governance\n",
    "column_comments = [\n",
    "    (\"type\", \"Health metric type identifier from Apple Health\"),\n",
    "    (\"value\", \"Raw measurement value\"),\n",
    "    (\"unit\", \"Unit of measurement\"),\n",
    "    (\"sourceName\", \"Source application or device name\"),\n",
    "    (\"startDate\", \"Start timestamp of the health measurement\"),\n",
    "    (\"endDate\", \"End timestamp of the health measurement\"),\n",
    "    (\"creationDate\", \"When the record was created in Apple Health\"),\n",
    "    (\"ingestion_timestamp\", \"When this record was ingested into the lakehouse\"),\n",
    "    (\"source_file\", \"Original source file name\"),\n",
    "    (\"layer\", \"Medallion architecture layer designation\"),\n",
    "    (\"source_system\", \"Source system identifier\"),\n",
    "    (\"total_records_in_file\", \"Total number of records in the source file\")\n",
    "]\n",
    "\n",
    "for column, description in column_comments:\n",
    "    spark.sql(f\"\"\"\n",
    "        COMMENT ON COLUMN health_data.bronze.apple_health.{column} \n",
    "        IS '{description}'\n",
    "    \"\"\")\n",
    "\n",
    "print(\"✅ Table properties and column comments added\")"
   ]
  },
  {
   "cell_type": "code",
   "execution_count": 0,
   "metadata": {
    "application/vnd.databricks.v1+cell": {
     "cellMetadata": {
      "byteLimit": 2048000,
      "implicitDf": true,
      "rowLimit": 10000
     },
     "inputWidgets": {},
     "nuid": "4dd3f6db-b75b-480c-bcb2-0b7091059a8c",
     "showTitle": false,
     "tableResultSettingsMap": {},
     "title": ""
    }
   },
   "outputs": [
    {
     "output_type": "display_data",
     "data": {
      "text/html": [
       "<style scoped>\n",
       "  .table-result-container {\n",
       "    max-height: 300px;\n",
       "    overflow: auto;\n",
       "  }\n",
       "  table, th, td {\n",
       "    border: 1px solid black;\n",
       "    border-collapse: collapse;\n",
       "  }\n",
       "  th, td {\n",
       "    padding: 5px;\n",
       "  }\n",
       "  th {\n",
       "    text-align: left;\n",
       "  }\n",
       "</style><div class='table-result-container'><table class='table-result'><thead style='background-color: white'><tr><th>type</th><th>record_count</th><th>source_count</th><th>earliest_date</th><th>latest_date</th></tr></thead><tbody><tr><td>HKQuantityTypeIdentifierBasalEnergyBurned</td><td>105593</td><td>2</td><td>2022-09-18T16:33:31.000Z</td><td>2025-07-20T20:40:00.000Z</td></tr><tr><td>HKQuantityTypeIdentifierStepCount</td><td>92618</td><td>2</td><td>2017-12-25T19:03:46.000Z</td><td>2025-07-20T20:39:36.000Z</td></tr><tr><td>HKQuantityTypeIdentifierDistanceWalkingRunning</td><td>78144</td><td>1</td><td>2017-12-25T19:03:46.000Z</td><td>2025-07-20T20:24:54.000Z</td></tr><tr><td>HKQuantityTypeIdentifierBodyTemperature</td><td>51735</td><td>1</td><td>2024-08-06T18:03:17.000Z</td><td>2025-07-20T20:44:36.000Z</td></tr><tr><td>HKQuantityTypeIdentifierHeartRate</td><td>51094</td><td>1</td><td>2024-08-06T18:06:28.000Z</td><td>2025-07-20T20:41:55.000Z</td></tr><tr><td>HKQuantityTypeIdentifierActiveEnergyBurned</td><td>39326</td><td>2</td><td>2022-09-18T16:48:43.000Z</td><td>2025-07-20T20:26:26.000Z</td></tr><tr><td>HKQuantityTypeIdentifierWalkingSpeed</td><td>37234</td><td>1</td><td>2020-11-16T17:57:18.000Z</td><td>2025-07-20T20:01:34.000Z</td></tr><tr><td>HKQuantityTypeIdentifierWalkingStepLength</td><td>37233</td><td>1</td><td>2020-11-16T17:57:18.000Z</td><td>2025-07-20T20:01:34.000Z</td></tr><tr><td>HKQuantityTypeIdentifierWalkingDoubleSupportPercentage</td><td>29608</td><td>1</td><td>2020-11-16T17:57:18.000Z</td><td>2025-07-20T20:01:34.000Z</td></tr><tr><td>HKQuantityTypeIdentifierHeadphoneAudioExposure</td><td>28058</td><td>1</td><td>2019-10-30T17:50:54.000Z</td><td>2025-07-20T03:59:11.000Z</td></tr></tbody></table></div>"
      ]
     },
     "metadata": {
      "application/vnd.databricks.v1+output": {
       "addedWidgets": {},
       "aggData": [],
       "aggError": "",
       "aggOverflow": false,
       "aggSchema": [],
       "aggSeriesLimitReached": false,
       "aggType": "",
       "arguments": {},
       "columnCustomDisplayInfos": {},
       "data": [
        [
         "HKQuantityTypeIdentifierBasalEnergyBurned",
         105593,
         2,
         "2022-09-18T16:33:31.000Z",
         "2025-07-20T20:40:00.000Z"
        ],
        [
         "HKQuantityTypeIdentifierStepCount",
         92618,
         2,
         "2017-12-25T19:03:46.000Z",
         "2025-07-20T20:39:36.000Z"
        ],
        [
         "HKQuantityTypeIdentifierDistanceWalkingRunning",
         78144,
         1,
         "2017-12-25T19:03:46.000Z",
         "2025-07-20T20:24:54.000Z"
        ],
        [
         "HKQuantityTypeIdentifierBodyTemperature",
         51735,
         1,
         "2024-08-06T18:03:17.000Z",
         "2025-07-20T20:44:36.000Z"
        ],
        [
         "HKQuantityTypeIdentifierHeartRate",
         51094,
         1,
         "2024-08-06T18:06:28.000Z",
         "2025-07-20T20:41:55.000Z"
        ],
        [
         "HKQuantityTypeIdentifierActiveEnergyBurned",
         39326,
         2,
         "2022-09-18T16:48:43.000Z",
         "2025-07-20T20:26:26.000Z"
        ],
        [
         "HKQuantityTypeIdentifierWalkingSpeed",
         37234,
         1,
         "2020-11-16T17:57:18.000Z",
         "2025-07-20T20:01:34.000Z"
        ],
        [
         "HKQuantityTypeIdentifierWalkingStepLength",
         37233,
         1,
         "2020-11-16T17:57:18.000Z",
         "2025-07-20T20:01:34.000Z"
        ],
        [
         "HKQuantityTypeIdentifierWalkingDoubleSupportPercentage",
         29608,
         1,
         "2020-11-16T17:57:18.000Z",
         "2025-07-20T20:01:34.000Z"
        ],
        [
         "HKQuantityTypeIdentifierHeadphoneAudioExposure",
         28058,
         1,
         "2019-10-30T17:50:54.000Z",
         "2025-07-20T03:59:11.000Z"
        ]
       ],
       "datasetInfos": [
        {
         "name": "_sqldf",
         "schema": {
          "fields": [
           {
            "metadata": {
             "comment": "Health metric type identifier from Apple Health"
            },
            "name": "type",
            "nullable": true,
            "type": "string"
           },
           {
            "metadata": {},
            "name": "record_count",
            "nullable": false,
            "type": "long"
           },
           {
            "metadata": {},
            "name": "source_count",
            "nullable": false,
            "type": "long"
           },
           {
            "metadata": {},
            "name": "earliest_date",
            "nullable": true,
            "type": "timestamp"
           },
           {
            "metadata": {},
            "name": "latest_date",
            "nullable": true,
            "type": "timestamp"
           }
          ],
          "type": "struct"
         },
         "tableIdentifier": null,
         "typeStr": "pyspark.sql.connect.dataframe.DataFrame"
        }
       ],
       "dbfsResultPath": null,
       "isJsonSchema": true,
       "metadata": {
        "createTempViewForImplicitDf": true,
        "dataframeName": "_sqldf",
        "executionCount": 8
       },
       "overflow": false,
       "plotOptions": {
        "customPlotOptions": {},
        "displayType": "table",
        "pivotAggregation": null,
        "pivotColumns": null,
        "xColumns": null,
        "yColumns": null
       },
       "removedWidgets": [],
       "schema": [
        {
         "metadata": "{\"comment\": \"Health metric type identifier from Apple Health\"}",
         "name": "type",
         "type": "\"string\""
        },
        {
         "metadata": "{}",
         "name": "record_count",
         "type": "\"long\""
        },
        {
         "metadata": "{}",
         "name": "source_count",
         "type": "\"long\""
        },
        {
         "metadata": "{}",
         "name": "earliest_date",
         "type": "\"timestamp\""
        },
        {
         "metadata": "{}",
         "name": "latest_date",
         "type": "\"timestamp\""
        }
       ],
       "type": "table"
      }
     },
     "output_type": "display_data"
    }
   ],
   "source": [
    "%sql\n",
    "-- Analyze Bronze layer with SQL\n",
    "    SELECT \n",
    "        type, \n",
    "        COUNT(*) as record_count,\n",
    "        COUNT(DISTINCT sourceName) as source_count,\n",
    "        MIN(startDate) as earliest_date,\n",
    "        MAX(endDate) as latest_date\n",
    "    FROM health_data.bronze.apple_health\n",
    "    GROUP BY type\n",
    "    ORDER BY record_count DESC\n",
    "    LIMIT 10"
   ]
  },
  {
   "cell_type": "markdown",
   "metadata": {
    "application/vnd.databricks.v1+cell": {
     "cellMetadata": {
      "byteLimit": 2048000,
      "rowLimit": 10000
     },
     "inputWidgets": {},
     "nuid": "7fe8a471-6fef-4f29-8abb-8d651e3fbdfa",
     "showTitle": false,
     "tableResultSettingsMap": {},
     "title": ""
    }
   },
   "source": [
    "## \uD83E\uDD48 Silver Layer: Data Cleaning & Validation\n",
    "\n",
    "**Implementing the refinement stage of Medallion Architecture with Unity Catalog**\n",
    "\n",
    "```\n",
    "Bronze Delta Table → Transform → Silver Delta Table\n",
    "health_data.bronze.apple_health → SQL transforms → health_data.silver.apple_health\n",
    "```\n",
    "\n",
    "- **Purpose**: Cleaned, validated, and enriched data\n",
    "- **Features**: Schema enforcement, data quality checks, business logic\n",
    "- **Format**: Optimized Delta Table with proper data types\n",
    "- **Consumers**: Data scientists, ML engineers, advanced analytics"
   ]
  },
  {
   "cell_type": "code",
   "execution_count": 0,
   "metadata": {
    "application/vnd.databricks.v1+cell": {
     "cellMetadata": {
      "byteLimit": 2048000,
      "implicitDf": true,
      "rowLimit": 10000
     },
     "inputWidgets": {},
     "nuid": "cd7070c3-ac74-44f6-be03-4e1ec67ba397",
     "showTitle": false,
     "tableResultSettingsMap": {},
     "title": ""
    }
   },
   "outputs": [
    {
     "output_type": "display_data",
     "data": {
      "text/html": [
       "<style scoped>\n",
       "  .table-result-container {\n",
       "    max-height: 300px;\n",
       "    overflow: auto;\n",
       "  }\n",
       "  table, th, td {\n",
       "    border: 1px solid black;\n",
       "    border-collapse: collapse;\n",
       "  }\n",
       "  th, td {\n",
       "    padding: 5px;\n",
       "  }\n",
       "  th {\n",
       "    text-align: left;\n",
       "  }\n",
       "</style><div class='table-result-container'><table class='table-result'><thead style='background-color: white'><tr><th>num_affected_rows</th><th>num_inserted_rows</th></tr></thead><tbody></tbody></table></div>"
      ]
     },
     "metadata": {
      "application/vnd.databricks.v1+output": {
       "addedWidgets": {},
       "aggData": [],
       "aggError": "",
       "aggOverflow": false,
       "aggSchema": [],
       "aggSeriesLimitReached": false,
       "aggType": "",
       "arguments": {},
       "columnCustomDisplayInfos": {},
       "data": [],
       "datasetInfos": [
        {
         "name": "_sqldf",
         "schema": {
          "fields": [
           {
            "metadata": {},
            "name": "num_affected_rows",
            "nullable": true,
            "type": "long"
           },
           {
            "metadata": {},
            "name": "num_inserted_rows",
            "nullable": true,
            "type": "long"
           }
          ],
          "type": "struct"
         },
         "tableIdentifier": null,
         "typeStr": "pyspark.sql.connect.dataframe.DataFrame"
        }
       ],
       "dbfsResultPath": null,
       "isJsonSchema": true,
       "metadata": {
        "createTempViewForImplicitDf": true,
        "dataframeName": "_sqldf",
        "executionCount": 9
       },
       "overflow": false,
       "plotOptions": {
        "customPlotOptions": {},
        "displayType": "table",
        "pivotAggregation": null,
        "pivotColumns": null,
        "xColumns": null,
        "yColumns": null
       },
       "removedWidgets": [],
       "schema": [
        {
         "metadata": "{}",
         "name": "num_affected_rows",
         "type": "\"long\""
        },
        {
         "metadata": "{}",
         "name": "num_inserted_rows",
         "type": "\"long\""
        }
       ],
       "type": "table"
      }
     },
     "output_type": "display_data"
    }
   ],
   "source": [
    "%sql\n",
    "-- Transform Bronze to Silver layer with data quality and business logic\n",
    "CREATE OR REPLACE TABLE health_data.silver.apple_health AS\n",
    "SELECT\n",
    "    -- Core fields from bronze\n",
    "    type,\n",
    "    sourceName,\n",
    "    value,\n",
    "    unit,\n",
    "    startDate,\n",
    "    endDate,\n",
    "    creationDate,\n",
    "    \n",
    "    -- Parse timestamps with timezone\n",
    "    to_timestamp(startDate, 'yyyy-MM-dd HH:mm:ss ZZZ') AS start_timestamp,\n",
    "    to_timestamp(endDate, 'yyyy-MM-dd HH:mm:ss ZZZ') AS end_timestamp,\n",
    "    to_timestamp(creationDate, 'yyyy-MM-dd HH:mm:ss ZZZ') AS creation_timestamp,\n",
    "    \n",
    "    -- Validate and convert values\n",
    "    CASE \n",
    "        WHEN value RLIKE '^[0-9]+\\\\.?[0-9]*$' THEN CAST(value AS DOUBLE)\n",
    "        ELSE NULL\n",
    "    END AS numeric_value,\n",
    "    \n",
    "    -- Business categorization\n",
    "    CASE\n",
    "        WHEN type LIKE '%HeartRate%' THEN 'Vitals'\n",
    "        WHEN type LIKE '%StepCount%' THEN 'Activity'\n",
    "        WHEN type LIKE '%BodyMass%' THEN 'Body'\n",
    "        WHEN type LIKE '%Sleep%' THEN 'Sleep'\n",
    "        ELSE 'Other'\n",
    "    END AS metric_category,\n",
    "    \n",
    "    -- Clean metric name\n",
    "    regexp_replace(type, 'HKQuantityTypeIdentifier', '') AS metric_name,\n",
    "    \n",
    "    -- Data quality flags\n",
    "    CASE \n",
    "        WHEN value RLIKE '^[0-9]+\\\\.?[0-9]*$' THEN TRUE \n",
    "        ELSE FALSE\n",
    "    END AS has_valid_value,\n",
    "    \n",
    "    CASE \n",
    "        WHEN to_timestamp(startDate, 'yyyy-MM-dd HH:mm:ss ZZZ') IS NOT NULL THEN TRUE\n",
    "        ELSE FALSE\n",
    "    END AS has_valid_dates,\n",
    "    \n",
    "    -- Silver layer metadata\n",
    "    current_timestamp() AS processed_timestamp,\n",
    "    'silver' AS layer\n",
    "    \n",
    "FROM health_data.bronze.apple_health\n",
    "\n",
    "-- Keep only quality records\n",
    "WHERE \n",
    "    value RLIKE '^[0-9]+\\\\.?[0-9]*$' AND\n",
    "    to_timestamp(startDate, 'yyyy-MM-dd HH:mm:ss ZZZ') IS NOT NULL;"
   ]
  },
  {
   "cell_type": "code",
   "execution_count": 0,
   "metadata": {
    "application/vnd.databricks.v1+cell": {
     "cellMetadata": {
      "byteLimit": 2048000,
      "implicitDf": true,
      "rowLimit": 10000
     },
     "inputWidgets": {},
     "nuid": "4b42035b-4746-4af9-b1f0-2408fcec067e",
     "showTitle": false,
     "tableResultSettingsMap": {},
     "title": ""
    }
   },
   "outputs": [
    {
     "output_type": "display_data",
     "data": {
      "text/html": [
       "<style scoped>\n",
       "  .table-result-container {\n",
       "    max-height: 300px;\n",
       "    overflow: auto;\n",
       "  }\n",
       "  table, th, td {\n",
       "    border: 1px solid black;\n",
       "    border-collapse: collapse;\n",
       "  }\n",
       "  th, td {\n",
       "    padding: 5px;\n",
       "  }\n",
       "  th {\n",
       "    text-align: left;\n",
       "  }\n",
       "</style><div class='table-result-container'><table class='table-result'><thead style='background-color: white'><tr><th>table_source</th><th>record_count</th><th>categories</th><th>earliest_process_time</th><th>latest_process_time</th></tr></thead><tbody><tr><td>Original</td><td>593753</td><td>5</td><td>2025-08-05T16:58:19.473Z</td><td>2025-08-05T16:58:19.473Z</td></tr></tbody></table></div>"
      ]
     },
     "metadata": {
      "application/vnd.databricks.v1+output": {
       "addedWidgets": {},
       "aggData": [],
       "aggError": "",
       "aggOverflow": false,
       "aggSchema": [],
       "aggSeriesLimitReached": false,
       "aggType": "",
       "arguments": {},
       "columnCustomDisplayInfos": {},
       "data": [
        [
         "Original",
         593753,
         5,
         "2025-08-05T16:58:19.473Z",
         "2025-08-05T16:58:19.473Z"
        ]
       ],
       "datasetInfos": [
        {
         "name": "_sqldf",
         "schema": {
          "fields": [
           {
            "metadata": {},
            "name": "table_source",
            "nullable": false,
            "type": "string"
           },
           {
            "metadata": {},
            "name": "record_count",
            "nullable": false,
            "type": "long"
           },
           {
            "metadata": {},
            "name": "categories",
            "nullable": false,
            "type": "long"
           },
           {
            "metadata": {},
            "name": "earliest_process_time",
            "nullable": true,
            "type": "timestamp"
           },
           {
            "metadata": {},
            "name": "latest_process_time",
            "nullable": true,
            "type": "timestamp"
           }
          ],
          "type": "struct"
         },
         "tableIdentifier": null,
         "typeStr": "pyspark.sql.connect.dataframe.DataFrame"
        }
       ],
       "dbfsResultPath": null,
       "isJsonSchema": true,
       "metadata": {
        "createTempViewForImplicitDf": true,
        "dataframeName": "_sqldf",
        "executionCount": 10
       },
       "overflow": false,
       "plotOptions": {
        "customPlotOptions": {},
        "displayType": "table",
        "pivotAggregation": null,
        "pivotColumns": null,
        "xColumns": null,
        "yColumns": null
       },
       "removedWidgets": [],
       "schema": [
        {
         "metadata": "{}",
         "name": "table_source",
         "type": "\"string\""
        },
        {
         "metadata": "{}",
         "name": "record_count",
         "type": "\"long\""
        },
        {
         "metadata": "{}",
         "name": "categories",
         "type": "\"long\""
        },
        {
         "metadata": "{}",
         "name": "earliest_process_time",
         "type": "\"timestamp\""
        },
        {
         "metadata": "{}",
         "name": "latest_process_time",
         "type": "\"timestamp\""
        }
       ],
       "type": "table"
      }
     },
     "output_type": "display_data"
    }
   ],
   "source": [
    "%sql\n",
    "SELECT \n",
    "    'Original' as table_source,\n",
    "    COUNT(*) as record_count,\n",
    "    COUNT(DISTINCT metric_category) as categories,\n",
    "    MIN(processed_timestamp) as earliest_process_time,\n",
    "    MAX(processed_timestamp) as latest_process_time\n",
    "FROM health_data.silver.apple_health;"
   ]
  },
  {
   "cell_type": "markdown",
   "metadata": {
    "application/vnd.databricks.v1+cell": {
     "cellMetadata": {
      "byteLimit": 2048000,
      "rowLimit": 10000
     },
     "inputWidgets": {},
     "nuid": "f0aab8a6-076d-400f-8dd2-e71ed6e2e02e",
     "showTitle": false,
     "tableResultSettingsMap": {},
     "title": ""
    }
   },
   "source": [
    "### Silver Layer Table Optimizations\n",
    "\n",
    "Delta Lake provides powerful optimizations for query performance and data management.\n"
   ]
  },
  {
   "cell_type": "code",
   "execution_count": 0,
   "metadata": {
    "application/vnd.databricks.v1+cell": {
     "cellMetadata": {
      "byteLimit": 2048000,
      "implicitDf": true,
      "rowLimit": 10000
     },
     "inputWidgets": {},
     "nuid": "2066bdc3-0cce-45f7-89eb-81ec4470a1b0",
     "showTitle": false,
     "tableResultSettingsMap": {},
     "title": ""
    }
   },
   "outputs": [],
   "source": [
    "%sql\n",
    "\n",
    "-- Optimize the Silver table for better query performance\n",
    "OPTIMIZE health_data.silver.apple_health\n",
    "ZORDER BY (start_timestamp, metric_category);\n",
    "\n",
    "-- Add table properties for governance\n",
    "ALTER TABLE health_data.silver.apple_health \n",
    "SET TBLPROPERTIES (\n",
    "    'delta.autoOptimize.optimizeWrite' = 'true',\n",
    "    'delta.autoOptimize.autoCompact' = 'true',\n",
    "    'delta.columnMapping.mode' = 'name',\n",
    "    'delta.minReaderVersion' = '2',\n",
    "    'delta.minWriterVersion' = '5',\n",
    "    'description' = 'Cleaned and validated Apple Health data with quality filters'\n",
    ");"
   ]
  },
  {
   "cell_type": "code",
   "execution_count": 0,
   "metadata": {
    "application/vnd.databricks.v1+cell": {
     "cellMetadata": {
      "byteLimit": 2048000,
      "implicitDf": true,
      "rowLimit": 10000
     },
     "inputWidgets": {},
     "nuid": "fb1f713d-f70e-4894-ae33-3f24e5899c8c",
     "showTitle": false,
     "tableResultSettingsMap": {},
     "title": ""
    }
   },
   "outputs": [
    {
     "output_type": "display_data",
     "data": {
      "text/html": [
       "<style scoped>\n",
       "  .table-result-container {\n",
       "    max-height: 300px;\n",
       "    overflow: auto;\n",
       "  }\n",
       "  table, th, td {\n",
       "    border: 1px solid black;\n",
       "    border-collapse: collapse;\n",
       "  }\n",
       "  th, td {\n",
       "    padding: 5px;\n",
       "  }\n",
       "  th {\n",
       "    text-align: left;\n",
       "  }\n",
       "</style><div class='table-result-container'><table class='table-result'><thead style='background-color: white'><tr><th>metric_category</th><th>metric_name</th><th>record_count</th><th>avg_value</th><th>min_value</th><th>max_value</th><th>valid_records</th><th>unique_days</th></tr></thead><tbody><tr><td>Activity</td><td>StepCount</td><td>92618</td><td>165.6</td><td>1.0</td><td>3417.0</td><td>92618</td><td>2761</td></tr><tr><td>Body</td><td>BodyMass</td><td>51</td><td>127.15</td><td>121.8</td><td>141.0</td><td>51</td><td>51</td></tr><tr><td>Other</td><td>BasalEnergyBurned</td><td>105593</td><td>15.28</td><td>0.15</td><td>1335.95</td><td>105593</td><td>1037</td></tr><tr><td>Other</td><td>DistanceWalkingRunning</td><td>78143</td><td>0.08</td><td>0.0</td><td>1.76</td><td>78143</td><td>2761</td></tr><tr><td>Other</td><td>BodyTemperature</td><td>51735</td><td>88.68</td><td>47.96</td><td>123.66</td><td>51735</td><td>218</td></tr><tr><td>Other</td><td>ActiveEnergyBurned</td><td>39326</td><td>9.77</td><td>0.0</td><td>113.49</td><td>39326</td><td>1037</td></tr><tr><td>Other</td><td>WalkingSpeed</td><td>37234</td><td>2.53</td><td>0.94</td><td>5.14</td><td>37234</td><td>1644</td></tr><tr><td>Other</td><td>WalkingStepLength</td><td>37233</td><td>26.74</td><td>7.87</td><td>53.54</td><td>37233</td><td>1644</td></tr><tr><td>Other</td><td>WalkingDoubleSupportPercentage</td><td>29608</td><td>0.27</td><td>0.15</td><td>0.36</td><td>29608</td><td>1623</td></tr><tr><td>Other</td><td>HeadphoneAudioExposure</td><td>28058</td><td>55.72</td><td>0.0</td><td>105.11</td><td>28058</td><td>887</td></tr><tr><td>Other</td><td>FlightsClimbed</td><td>14633</td><td>1.68</td><td>1.0</td><td>36.0</td><td>14633</td><td>2657</td></tr><tr><td>Other</td><td>WalkingAsymmetryPercentage</td><td>13589</td><td>0.08</td><td>0.0</td><td>1.0</td><td>13589</td><td>1378</td></tr><tr><td>Other</td><td>AppleWalkingSteadiness</td><td>195</td><td>0.98</td><td>0.85</td><td>1.0</td><td>195</td><td>195</td></tr><tr><td>Other</td><td>Height</td><td>1</td><td>5.58</td><td>5.58</td><td>5.58</td><td>1</td><td>1</td></tr><tr><td>Sleep</td><td>HKDataTypeSleepDurationGoal</td><td>1</td><td>9.0</td><td>9.0</td><td>9.0</td><td>1</td><td>1</td></tr><tr><td>Vitals</td><td>HeartRate</td><td>51094</td><td>69.34</td><td>41.0</td><td>184.0</td><td>51094</td><td>217</td></tr><tr><td>Vitals</td><td>HeartRateVariabilitySDNN</td><td>14463</td><td>36.74</td><td>1.0</td><td>213.0</td><td>14463</td><td>180</td></tr><tr><td>Vitals</td><td>RestingHeartRate</td><td>178</td><td>49.82</td><td>41.0</td><td>59.0</td><td>178</td><td>170</td></tr></tbody></table></div>"
      ]
     },
     "metadata": {
      "application/vnd.databricks.v1+output": {
       "addedWidgets": {},
       "aggData": [],
       "aggError": "",
       "aggOverflow": false,
       "aggSchema": [],
       "aggSeriesLimitReached": false,
       "aggType": "",
       "arguments": {},
       "columnCustomDisplayInfos": {},
       "data": [
        [
         "Activity",
         "StepCount",
         92618,
         165.6,
         1.0,
         3417.0,
         92618,
         2761
        ],
        [
         "Body",
         "BodyMass",
         51,
         127.15,
         121.8,
         141.0,
         51,
         51
        ],
        [
         "Other",
         "BasalEnergyBurned",
         105593,
         15.28,
         0.15,
         1335.95,
         105593,
         1037
        ],
        [
         "Other",
         "DistanceWalkingRunning",
         78143,
         0.08,
         0.0,
         1.76,
         78143,
         2761
        ],
        [
         "Other",
         "BodyTemperature",
         51735,
         88.68,
         47.96,
         123.66,
         51735,
         218
        ],
        [
         "Other",
         "ActiveEnergyBurned",
         39326,
         9.77,
         0.0,
         113.49,
         39326,
         1037
        ],
        [
         "Other",
         "WalkingSpeed",
         37234,
         2.53,
         0.94,
         5.14,
         37234,
         1644
        ],
        [
         "Other",
         "WalkingStepLength",
         37233,
         26.74,
         7.87,
         53.54,
         37233,
         1644
        ],
        [
         "Other",
         "WalkingDoubleSupportPercentage",
         29608,
         0.27,
         0.15,
         0.36,
         29608,
         1623
        ],
        [
         "Other",
         "HeadphoneAudioExposure",
         28058,
         55.72,
         0.0,
         105.11,
         28058,
         887
        ],
        [
         "Other",
         "FlightsClimbed",
         14633,
         1.68,
         1.0,
         36.0,
         14633,
         2657
        ],
        [
         "Other",
         "WalkingAsymmetryPercentage",
         13589,
         0.08,
         0.0,
         1.0,
         13589,
         1378
        ],
        [
         "Other",
         "AppleWalkingSteadiness",
         195,
         0.98,
         0.85,
         1.0,
         195,
         195
        ],
        [
         "Other",
         "Height",
         1,
         5.58,
         5.58,
         5.58,
         1,
         1
        ],
        [
         "Sleep",
         "HKDataTypeSleepDurationGoal",
         1,
         9.0,
         9.0,
         9.0,
         1,
         1
        ],
        [
         "Vitals",
         "HeartRate",
         51094,
         69.34,
         41.0,
         184.0,
         51094,
         217
        ],
        [
         "Vitals",
         "HeartRateVariabilitySDNN",
         14463,
         36.74,
         1.0,
         213.0,
         14463,
         180
        ],
        [
         "Vitals",
         "RestingHeartRate",
         178,
         49.82,
         41.0,
         59.0,
         178,
         170
        ]
       ],
       "datasetInfos": [
        {
         "name": "_sqldf",
         "schema": {
          "fields": [
           {
            "metadata": {},
            "name": "metric_category",
            "nullable": true,
            "type": "string"
           },
           {
            "metadata": {},
            "name": "metric_name",
            "nullable": true,
            "type": "string"
           },
           {
            "metadata": {},
            "name": "record_count",
            "nullable": false,
            "type": "long"
           },
           {
            "metadata": {},
            "name": "avg_value",
            "nullable": true,
            "type": "double"
           },
           {
            "metadata": {},
            "name": "min_value",
            "nullable": true,
            "type": "double"
           },
           {
            "metadata": {},
            "name": "max_value",
            "nullable": true,
            "type": "double"
           },
           {
            "metadata": {},
            "name": "valid_records",
            "nullable": true,
            "type": "long"
           },
           {
            "metadata": {},
            "name": "unique_days",
            "nullable": false,
            "type": "long"
           }
          ],
          "type": "struct"
         },
         "tableIdentifier": null,
         "typeStr": "pyspark.sql.connect.dataframe.DataFrame"
        }
       ],
       "dbfsResultPath": null,
       "isJsonSchema": true,
       "metadata": {
        "createTempViewForImplicitDf": true,
        "dataframeName": "_sqldf",
        "executionCount": 12
       },
       "overflow": false,
       "plotOptions": {
        "customPlotOptions": {},
        "displayType": "table",
        "pivotAggregation": null,
        "pivotColumns": null,
        "xColumns": null,
        "yColumns": null
       },
       "removedWidgets": [],
       "schema": [
        {
         "metadata": "{}",
         "name": "metric_category",
         "type": "\"string\""
        },
        {
         "metadata": "{}",
         "name": "metric_name",
         "type": "\"string\""
        },
        {
         "metadata": "{}",
         "name": "record_count",
         "type": "\"long\""
        },
        {
         "metadata": "{}",
         "name": "avg_value",
         "type": "\"double\""
        },
        {
         "metadata": "{}",
         "name": "min_value",
         "type": "\"double\""
        },
        {
         "metadata": "{}",
         "name": "max_value",
         "type": "\"double\""
        },
        {
         "metadata": "{}",
         "name": "valid_records",
         "type": "\"long\""
        },
        {
         "metadata": "{}",
         "name": "unique_days",
         "type": "\"long\""
        }
       ],
       "type": "table"
      }
     },
     "output_type": "display_data"
    }
   ],
   "source": [
    "%sql \n",
    "SELECT \n",
    "        metric_category,\n",
    "        metric_name,\n",
    "        COUNT(*) as record_count,\n",
    "        ROUND(AVG(numeric_value), 2) as avg_value,\n",
    "        ROUND(MIN(numeric_value), 2) as min_value,\n",
    "        ROUND(MAX(numeric_value), 2) as max_value,\n",
    "        SUM(CASE WHEN has_valid_value AND has_valid_dates THEN 1 ELSE 0 END) as valid_records,\n",
    "        COUNT(DISTINCT DATE(start_timestamp)) as unique_days\n",
    "    FROM health_data.silver.apple_health\n",
    "    GROUP BY metric_category, metric_name\n",
    "    ORDER BY metric_category, record_count DESC\n"
   ]
  },
  {
   "cell_type": "markdown",
   "metadata": {
    "application/vnd.databricks.v1+cell": {
     "cellMetadata": {
      "byteLimit": 2048000,
      "rowLimit": 10000
     },
     "inputWidgets": {},
     "nuid": "1288679c-6d3a-40ab-ab6b-7eb54599e6ba",
     "showTitle": false,
     "tableResultSettingsMap": {},
     "title": ""
    }
   },
   "source": [
    "## \uD83E\uDD47 Gold Layer: Analytics-Ready Data\n",
    "\n",
    "**Implementing the consumption stage of Medallion Architecture with Unity Catalog**\n",
    "\n",
    "```\n",
    "Silver Delta Table → Transform → Gold Delta Table → Consumption Layer\n",
    "health_data.silver.apple_health → SQL aggregations → health_data.gold.daily_health_summary\n",
    "```\n",
    "\n",
    "- **Purpose**: Business-ready aggregated data for analytics and ML\n",
    "- **Features**: Daily summaries, KPIs, optimized for query performance  \n",
    "- **Format**: Highly optimized Delta Table with business logic applied\n",
    "- **Consumers**: Business analysts, BI tools, ML models, applications"
   ]
  },
  {
   "cell_type": "code",
   "execution_count": 0,
   "metadata": {
    "application/vnd.databricks.v1+cell": {
     "cellMetadata": {
      "byteLimit": 2048000,
      "implicitDf": true,
      "rowLimit": 10000
     },
     "inputWidgets": {},
     "nuid": "20d40de5-9f5a-42f3-8f71-6adaa8411681",
     "showTitle": false,
     "tableResultSettingsMap": {},
     "title": ""
    }
   },
   "outputs": [
    {
     "output_type": "display_data",
     "data": {
      "text/html": [
       "<style scoped>\n",
       "  .table-result-container {\n",
       "    max-height: 300px;\n",
       "    overflow: auto;\n",
       "  }\n",
       "  table, th, td {\n",
       "    border: 1px solid black;\n",
       "    border-collapse: collapse;\n",
       "  }\n",
       "  th, td {\n",
       "    padding: 5px;\n",
       "  }\n",
       "  th {\n",
       "    text-align: left;\n",
       "  }\n",
       "</style><div class='table-result-container'><table class='table-result'><thead style='background-color: white'><tr><th>num_affected_rows</th><th>num_inserted_rows</th></tr></thead><tbody></tbody></table></div>"
      ]
     },
     "metadata": {
      "application/vnd.databricks.v1+output": {
       "addedWidgets": {},
       "aggData": [],
       "aggError": "",
       "aggOverflow": false,
       "aggSchema": [],
       "aggSeriesLimitReached": false,
       "aggType": "",
       "arguments": {},
       "columnCustomDisplayInfos": {},
       "data": [],
       "datasetInfos": [
        {
         "name": "_sqldf",
         "schema": {
          "fields": [
           {
            "metadata": {},
            "name": "num_affected_rows",
            "nullable": true,
            "type": "long"
           },
           {
            "metadata": {},
            "name": "num_inserted_rows",
            "nullable": true,
            "type": "long"
           }
          ],
          "type": "struct"
         },
         "tableIdentifier": null,
         "typeStr": "pyspark.sql.connect.dataframe.DataFrame"
        }
       ],
       "dbfsResultPath": null,
       "isJsonSchema": true,
       "metadata": {
        "createTempViewForImplicitDf": true,
        "dataframeName": "_sqldf",
        "executionCount": 13
       },
       "overflow": false,
       "plotOptions": {
        "customPlotOptions": {},
        "displayType": "table",
        "pivotAggregation": null,
        "pivotColumns": null,
        "xColumns": null,
        "yColumns": null
       },
       "removedWidgets": [],
       "schema": [
        {
         "metadata": "{}",
         "name": "num_affected_rows",
         "type": "\"long\""
        },
        {
         "metadata": "{}",
         "name": "num_inserted_rows",
         "type": "\"long\""
        }
       ],
       "type": "table"
      }
     },
     "output_type": "display_data"
    }
   ],
   "source": [
    "%sql\n",
    "-- Create Gold layer: Daily health summaries with business intelligence\n",
    "CREATE OR REPLACE TABLE health_data.gold.daily_health_summary AS\n",
    "\n",
    "WITH daily_metrics AS (\n",
    "    SELECT\n",
    "        -- Date dimension\n",
    "        DATE(start_timestamp) AS activity_date,\n",
    "        metric_name,\n",
    "        metric_category,\n",
    "        unit,\n",
    "        \n",
    "        -- Core business aggregations\n",
    "        SUM(numeric_value) AS total_value,\n",
    "        AVG(numeric_value) AS avg_value,\n",
    "        MIN(numeric_value) AS min_value,\n",
    "        MAX(numeric_value) AS max_value,\n",
    "        COUNT(*) AS measurement_count,\n",
    "        \n",
    "        -- Data quality metrics\n",
    "        AVG(CASE WHEN has_valid_value AND has_valid_dates THEN 1.0 ELSE 0.0 END) AS quality_score,\n",
    "        \n",
    "        -- Business enrichment for analytics\n",
    "        CASE WHEN DAYOFWEEK(start_timestamp) IN (1, 7) THEN TRUE ELSE FALSE END AS is_weekend,\n",
    "        DAYOFWEEK(start_timestamp) AS day_of_week,\n",
    "        MONTH(start_timestamp) AS month,\n",
    "        YEAR(start_timestamp) AS year\n",
    "    \n",
    "    FROM health_data.silver.apple_health\n",
    "    WHERE start_timestamp IS NOT NULL\n",
    "    GROUP BY \n",
    "        DATE(start_timestamp),\n",
    "        metric_name,\n",
    "        metric_category,\n",
    "        unit,\n",
    "        CASE WHEN DAYOFWEEK(start_timestamp) IN (1, 7) THEN TRUE ELSE FALSE END,\n",
    "        DAYOFWEEK(start_timestamp),\n",
    "        MONTH(start_timestamp),\n",
    "        YEAR(start_timestamp)\n",
    ")\n",
    "\n",
    "SELECT\n",
    "    *,\n",
    "    \n",
    "    -- Evidence-based health scoring algorithm using medical guidelines\n",
    "    CASE\n",
    "        -- Heart Rate Scoring (based on American Heart Association guidelines)\n",
    "        WHEN metric_name = 'HeartRate' THEN\n",
    "            CASE \n",
    "                WHEN avg_value BETWEEN 60 AND 100 THEN 95  -- Normal range per AHA\n",
    "                WHEN avg_value BETWEEN 50 AND 59 THEN 90   -- Athletic/very fit range\n",
    "                WHEN avg_value BETWEEN 40 AND 49 THEN 85   -- Elite athlete range\n",
    "                WHEN avg_value BETWEEN 101 AND 110 THEN 80 -- Slightly elevated\n",
    "                WHEN avg_value BETWEEN 111 AND 120 THEN 70 -- Moderately elevated\n",
    "                ELSE 60  -- Outside healthy ranges\n",
    "            END\n",
    "            \n",
    "        -- Step Count Scoring (based on CDC and NIH research)\n",
    "        WHEN metric_name = 'StepCount' THEN\n",
    "            CASE \n",
    "                WHEN avg_value >= 10000 THEN 95   -- CDC optimal recommendation\n",
    "                WHEN avg_value >= 8000 THEN 90    -- NIH minimum for health benefits\n",
    "                WHEN avg_value >= 6000 THEN 85    -- Beneficial for 60+ adults\n",
    "                WHEN avg_value >= 4000 THEN 75    -- Some health benefits\n",
    "                WHEN avg_value >= 2000 THEN 65    -- Minimal activity\n",
    "                ELSE 50  -- Sedentary lifestyle risk\n",
    "            END\n",
    "            \n",
    "        -- Body Mass (weight in pounds) - contextual scoring\n",
    "        WHEN metric_name = 'BodyMass' THEN\n",
    "            CASE \n",
    "                -- Assuming average height ~5'6\" (67 inches), healthy BMI 18.5-24.9\n",
    "                WHEN avg_value BETWEEN 120 AND 165 THEN 90  -- Healthy BMI range\n",
    "                WHEN avg_value BETWEEN 110 AND 119 THEN 85  -- Lower healthy range\n",
    "                WHEN avg_value BETWEEN 166 AND 185 THEN 80  -- Overweight range\n",
    "                WHEN avg_value BETWEEN 100 AND 109 THEN 75  -- Underweight concern\n",
    "                WHEN avg_value BETWEEN 186 AND 220 THEN 70  -- Obesity class I\n",
    "                ELSE 60  -- Outside typical healthy ranges\n",
    "            END\n",
    "            \n",
    "        -- Distance metrics (walking/running in miles)\n",
    "        WHEN metric_name LIKE '%Distance%' THEN\n",
    "            CASE \n",
    "                WHEN avg_value >= 3.0 THEN 95     -- Excellent daily distance\n",
    "                WHEN avg_value >= 2.0 THEN 90     -- Good daily activity\n",
    "                WHEN avg_value >= 1.0 THEN 85     -- Moderate activity\n",
    "                WHEN avg_value >= 0.5 THEN 75     -- Some activity\n",
    "                ELSE 65  -- Limited mobility\n",
    "            END\n",
    "            \n",
    "        -- Energy expenditure (calories)\n",
    "        WHEN metric_name LIKE '%Energy%' THEN\n",
    "            CASE \n",
    "                WHEN avg_value >= 500 THEN 95     -- High activity level\n",
    "                WHEN avg_value >= 300 THEN 90     -- Moderate-high activity\n",
    "                WHEN avg_value >= 200 THEN 85     -- Moderate activity\n",
    "                WHEN avg_value >= 100 THEN 75     -- Light activity\n",
    "                ELSE 65  -- Minimal energy expenditure\n",
    "            END\n",
    "            \n",
    "        -- Sleep duration (assuming hours)\n",
    "        WHEN metric_name LIKE '%Sleep%' THEN\n",
    "            CASE \n",
    "                WHEN avg_value BETWEEN 7 AND 9 THEN 95   -- Optimal sleep per CDC\n",
    "                WHEN avg_value BETWEEN 6 AND 6.9 THEN 85 -- Acceptable minimum\n",
    "                WHEN avg_value BETWEEN 9.1 AND 10 THEN 85 -- Upper healthy range\n",
    "                WHEN avg_value BETWEEN 5 AND 5.9 THEN 70 -- Sleep deficient\n",
    "                ELSE 60  -- Severely inadequate sleep\n",
    "            END\n",
    "            \n",
    "        -- Default for other metrics\n",
    "        ELSE 80\n",
    "    END AS health_score,\n",
    "    \n",
    "    -- Operational monitoring\n",
    "    DATEDIFF(CURRENT_DATE(), activity_date) AS days_since_measurement,\n",
    "    \n",
    "    -- Trend categorization for business insights\n",
    "    CASE\n",
    "        WHEN avg_value > total_value / measurement_count * 1.2 THEN 'Significantly Above Average'\n",
    "        WHEN avg_value > total_value / measurement_count * 1.1 THEN 'Above Average'\n",
    "        WHEN avg_value < total_value / measurement_count * 0.8 THEN 'Significantly Below Average'\n",
    "        WHEN avg_value < total_value / measurement_count * 0.9 THEN 'Below Average'\n",
    "        ELSE 'Normal Range'\n",
    "    END AS performance_trend,\n",
    "    \n",
    "    -- Gold layer metadata\n",
    "    CURRENT_TIMESTAMP() AS processed_at,\n",
    "    'gold' AS layer\n",
    "    \n",
    "FROM daily_metrics;"
   ]
  },
  {
   "cell_type": "code",
   "execution_count": 0,
   "metadata": {
    "application/vnd.databricks.v1+cell": {
     "cellMetadata": {
      "byteLimit": 2048000,
      "implicitDf": true,
      "rowLimit": 10000
     },
     "inputWidgets": {},
     "nuid": "b3eb9bfa-0f86-4b5b-96ed-56c4a251c310",
     "showTitle": false,
     "tableResultSettingsMap": {},
     "title": ""
    }
   },
   "outputs": [],
   "source": [
    "\n",
    "%sql\n",
    "-- Optimize Gold table for analytical queries\n",
    "OPTIMIZE health_data.gold.daily_health_summary\n",
    "ZORDER BY (activity_date, metric_category);\n",
    "\n",
    "-- Add table properties for production governance\n",
    "ALTER TABLE health_data.gold.daily_health_summary \n",
    "SET TBLPROPERTIES (\n",
    "    'delta.autoOptimize.optimizeWrite' = 'true',\n",
    "    'delta.autoOptimize.autoCompact' = 'true',\n",
    "    'delta.columnMapping.mode' = 'name',\n",
    "    'description' = 'Daily health metrics aggregated from Apple Health data with evidence-based medical scoring'\n",
    ");"
   ]
  },
  {
   "cell_type": "code",
   "execution_count": 0,
   "metadata": {
    "application/vnd.databricks.v1+cell": {
     "cellMetadata": {
      "byteLimit": 2048000,
      "implicitDf": true,
      "rowLimit": 10000
     },
     "inputWidgets": {},
     "nuid": "b6092c30-2b6f-4c41-8198-8e50735c64c1",
     "showTitle": false,
     "tableResultSettingsMap": {},
     "title": ""
    }
   },
   "outputs": [],
   "source": [
    "%sql\n",
    "-- Top performing health metrics by medical scoring\n",
    "SELECT \n",
    "    'Top Health Metrics by Medical Score' AS analysis_type,\n",
    "    metric_name,\n",
    "    metric_category,\n",
    "    COUNT(*) AS total_days_tracked,\n",
    "    ROUND(AVG(avg_value), 1) AS typical_daily_value,\n",
    "    ROUND(AVG(health_score), 1) AS medical_score,\n",
    "    CASE \n",
    "        WHEN AVG(health_score) >= 90 THEN 'Excellent Health'\n",
    "        WHEN AVG(health_score) >= 80 THEN 'Good Health' \n",
    "        WHEN AVG(health_score) >= 70 THEN 'Fair Health'\n",
    "        ELSE 'Needs Improvement'\n",
    "    END AS health_grade,\n",
    "    COUNT(CASE WHEN performance_trend = 'Significantly Above Average' THEN 1 END) AS exceptional_days\n",
    "FROM health_data.gold.daily_health_summary\n",
    "WHERE activity_date >= '2024-01-01'\n",
    "GROUP BY metric_name, metric_category\n",
    "HAVING COUNT(*) >= 30  -- At least 30 days of data\n",
    "ORDER BY medical_score DESC, total_days_tracked DESC\n",
    "LIMIT 10;"
   ]
  },
  {
   "cell_type": "markdown",
   "metadata": {
    "application/vnd.databricks.v1+cell": {
     "cellMetadata": {
      "byteLimit": 2048000,
      "rowLimit": 10000
     },
     "inputWidgets": {},
     "nuid": "50505e47-6239-434c-87e2-d3fdff59482a",
     "showTitle": false,
     "tableResultSettingsMap": {},
     "title": ""
    }
   },
   "source": [
    "## \uD83D\uDD3A Delta Lake Advanced Features\n",
    "\n",
    "**Demonstrating Enterprise Lakehouse Capabilities**\n",
    "\n",
    "Delta Lake provides the reliability and performance features that make the lakehouse architecture possible:\n",
    "\n",
    "### \uD83D\uDD70️ Time Travel\n",
    "- Query any historical version of your data\n",
    "- Rollback bad deployments or data corruption\n",
    "- Audit trail for compliance and debugging\n",
    "\n",
    "### \uD83D\uDD04 Schema Evolution  \n",
    "- Add columns without breaking existing pipelines\n",
    "- Backward compatibility for all consumers\n",
    "- Gradual schema migration strategies\n",
    "\n",
    "### ⚡ Performance Optimization\n",
    "- Z-ordering for optimal query performance\n",
    "- Automatic file compaction and optimization\n",
    "- Efficient metadata management"
   ]
  },
  {
   "cell_type": "code",
   "execution_count": 0,
   "metadata": {
    "application/vnd.databricks.v1+cell": {
     "cellMetadata": {
      "byteLimit": 2048000,
      "implicitDf": true,
      "rowLimit": 10000
     },
     "inputWidgets": {},
     "nuid": "26e9f233-d64e-4e06-aa3a-0f62e480ddfd",
     "showTitle": false,
     "tableResultSettingsMap": {},
     "title": ""
    }
   },
   "outputs": [],
   "source": [
    "%sql\n",
    "--Demonstrate Delta Lake time travel capabilities with SQL\n",
    "DESCRIBE HISTORY health_data.gold.daily_health_summary"
   ]
  },
  {
   "cell_type": "code",
   "execution_count": 0,
   "metadata": {
    "application/vnd.databricks.v1+cell": {
     "cellMetadata": {
      "byteLimit": 2048000,
      "implicitDf": true,
      "rowLimit": 10000
     },
     "inputWidgets": {},
     "nuid": "12cab2b2-967f-4084-aa8b-49a1f038c35d",
     "showTitle": false,
     "tableResultSettingsMap": {},
     "title": ""
    }
   },
   "outputs": [
    {
     "output_type": "display_data",
     "data": {
      "text/html": [
       "<style scoped>\n",
       "  .table-result-container {\n",
       "    max-height: 300px;\n",
       "    overflow: auto;\n",
       "  }\n",
       "  table, th, td {\n",
       "    border: 1px solid black;\n",
       "    border-collapse: collapse;\n",
       "  }\n",
       "  th, td {\n",
       "    padding: 5px;\n",
       "  }\n",
       "  th {\n",
       "    text-align: left;\n",
       "  }\n",
       "</style><div class='table-result-container'><table class='table-result'><thead style='background-color: white'><tr><th>record_count</th><th>version</th></tr></thead><tbody><tr><td>18462</td><td>Version 0</td></tr><tr><td>18462</td><td>Current Version</td></tr></tbody></table></div>"
      ]
     },
     "metadata": {
      "application/vnd.databricks.v1+output": {
       "addedWidgets": {},
       "aggData": [],
       "aggError": "",
       "aggOverflow": false,
       "aggSchema": [],
       "aggSeriesLimitReached": false,
       "aggType": "",
       "arguments": {},
       "columnCustomDisplayInfos": {},
       "data": [
        [
         18462,
         "Version 0"
        ],
        [
         18462,
         "Current Version"
        ]
       ],
       "datasetInfos": [
        {
         "name": "_sqldf",
         "schema": {
          "fields": [
           {
            "metadata": {},
            "name": "record_count",
            "nullable": false,
            "type": "long"
           },
           {
            "metadata": {},
            "name": "version",
            "nullable": false,
            "type": "string"
           }
          ],
          "type": "struct"
         },
         "tableIdentifier": null,
         "typeStr": "pyspark.sql.connect.dataframe.DataFrame"
        }
       ],
       "dbfsResultPath": null,
       "isJsonSchema": true,
       "metadata": {
        "createTempViewForImplicitDf": true,
        "dataframeName": "_sqldf",
        "executionCount": 17
       },
       "overflow": false,
       "plotOptions": {
        "customPlotOptions": {},
        "displayType": "table",
        "pivotAggregation": null,
        "pivotColumns": null,
        "xColumns": null,
        "yColumns": null
       },
       "removedWidgets": [],
       "schema": [
        {
         "metadata": "{}",
         "name": "record_count",
         "type": "\"long\""
        },
        {
         "metadata": "{}",
         "name": "version",
         "type": "\"string\""
        }
       ],
       "type": "table"
      }
     },
     "output_type": "display_data"
    }
   ],
   "source": [
    "%sql\n",
    "--Query a specific version using time travel\n",
    "SELECT COUNT(*) as record_count, 'Version 0' as version\n",
    "FROM health_data.gold.daily_health_summary VERSION AS OF 0\n",
    "\n",
    "UNION ALL\n",
    "\n",
    "SELECT COUNT(*) as record_count, 'Current Version' as version\n",
    "FROM health_data.gold.daily_health_summary\n",
    "\n"
   ]
  },
  {
   "cell_type": "markdown",
   "metadata": {
    "application/vnd.databricks.v1+cell": {
     "cellMetadata": {
      "byteLimit": 2048000,
      "rowLimit": 10000
     },
     "inputWidgets": {},
     "nuid": "71bb97d3-5da6-4340-afef-b26ae2ad3374",
     "showTitle": false,
     "tableResultSettingsMap": {},
     "title": ""
    }
   },
   "source": [
    "## \uD83D\uDCCA Data Pipeline Performance Summary\n",
    "\n",
    "The medallion architecture transforms raw iPhone health data through **Bronze**, **Silver**, and **Gold** layers. This analysis shows how many records exist at each stage and demonstrates the efficiency of our data cleaning and aggregation processes in creating analytics-ready daily health summaries."
   ]
  },
  {
   "cell_type": "code",
   "execution_count": 0,
   "metadata": {
    "application/vnd.databricks.v1+cell": {
     "cellMetadata": {
      "byteLimit": 2048000,
      "rowLimit": 10000
     },
     "inputWidgets": {},
     "nuid": "cc69ab88-027e-42d2-bc18-6ff380888995",
     "showTitle": false,
     "tableResultSettingsMap": {},
     "title": ""
    }
   },
   "outputs": [
    {
     "output_type": "stream",
     "name": "stdout",
     "output_type": "stream",
     "text": [
      "============================================================\nDATA PIPELINE PROCESSING SUMMARY\n============================================================\n"
     ]
    },
    {
     "output_type": "display_data",
     "data": {
      "image/png": "[encoded data removed]",
      "text/plain": [
       "<Figure size 1500x600 with 2 Axes>"
      ]
     },
     "metadata": {},
     "output_type": "display_data"
    },
    {
     "output_type": "stream",
     "name": "stdout",
     "output_type": "stream",
     "text": [
      "PIPELINE STATISTICS:\n   • Bronze Layer: 608,102 records\n   • Silver Layer: 593,753 records (2.4% reduction)\n   • Gold Layer: 18,462 records (96.9% further reduction)\n\nTRANSFORMATION EFFICIENCY:\n   • Data cleaning removed: 14,349 invalid/duplicate records\n   • Aggregation condensed: 575,291 records into daily summaries\n   • Overall compression ratio: 32.9:1\n   • Final dataset size: 97.0% smaller than raw input\n"
     ]
    }
   ],
   "source": [
    "import matplotlib.pyplot as plt\n",
    "import pandas as pd\n",
    "\n",
    "# Get record counts from each layer using correct table names\n",
    "bronze_count = spark.sql(\"SELECT COUNT(*) as count FROM health_data.bronze.apple_health\").collect()[0]['count']\n",
    "silver_count = spark.sql(\"SELECT COUNT(*) as count FROM health_data.silver.apple_health\").collect()[0]['count']\n",
    "gold_count = spark.sql(\"SELECT COUNT(*) as count FROM health_data.gold.daily_health_summary\").collect()[0]['count']\n",
    "\n",
    "# Create summary DataFrame\n",
    "pipeline_data = pd.DataFrame({\n",
    "    'Layer': ['Bronze\\n(Raw)', 'Silver\\n(Cleaned)', 'Gold\\n(Aggregated)'],\n",
    "    'Record_Count': [bronze_count, silver_count, gold_count],\n",
    "    'Colors': ['#CD7F32', '#C0C0C0', '#FFD700']  # Bronze, Silver, Gold colors\n",
    "})\n",
    "\n",
    "# Calculate data reduction percentages\n",
    "bronze_to_silver_reduction = ((bronze_count - silver_count) / bronze_count) * 100\n",
    "silver_to_gold_reduction = ((silver_count - gold_count) / silver_count) * 100\n",
    "total_reduction = ((bronze_count - gold_count) / bronze_count) * 100\n",
    "\n",
    "print(\"=\"*60)\n",
    "print(\"DATA PIPELINE PROCESSING SUMMARY\")\n",
    "print(\"=\"*60)\n",
    "\n",
    "fig, (ax1, ax2) = plt.subplots(1, 2, figsize=(15, 6))\n",
    "fig.suptitle('Health Data Pipeline: Bronze → Silver → Gold', fontsize=16, fontweight='bold')\n",
    "\n",
    "# 1. Bar Chart showing record counts\n",
    "bars = ax1.bar(pipeline_data['Layer'], pipeline_data['Record_Count'], \n",
    "               color=pipeline_data['Colors'], alpha=0.8, edgecolor='black', linewidth=2)\n",
    "\n",
    "# Add value labels on bars\n",
    "for bar, count in zip(bars, pipeline_data['Record_Count']):\n",
    "    height = bar.get_height()\n",
    "    ax1.text(bar.get_x() + bar.get_width()/2., height,\n",
    "             f'{count:,}', ha='center', va='bottom', fontweight='bold', fontsize=12)\n",
    "\n",
    "ax1.set_title('Record Counts by Pipeline Layer', fontweight='bold', fontsize=14)\n",
    "ax1.set_ylabel('Number of Records', fontweight='bold')\n",
    "ax1.grid(True, alpha=0.3, axis='y')\n",
    "\n",
    "# Format y-axis with commas\n",
    "ax1.yaxis.set_major_formatter(plt.FuncFormatter(lambda x, p: f'{x:,.0f}'))\n",
    "\n",
    "# 2. Data Flow Visualization\n",
    "ax2.axis('off')\n",
    "\n",
    "# Create flow diagram without emojis\n",
    "flow_text = f\"\"\"\n",
    "DATA TRANSFORMATION FLOW\n",
    "{'='*30}\n",
    "\n",
    "BRONZE LAYER (Raw Data)\n",
    "   Records: {bronze_count:,}\n",
    "   Source: iPhone Health Export XML\n",
    "   Status: Raw, unprocessed data\n",
    "\n",
    "        |  Data Cleaning & Validation\n",
    "        v  Removed: {bronze_count - silver_count:,} records ({bronze_to_silver_reduction:.1f}%)\n",
    "\n",
    "SILVER LAYER (Cleaned Data)  \n",
    "   Records: {silver_count:,}\n",
    "   Process: Cleaned, validated, standardized\n",
    "   Quality: High-quality individual records\n",
    "\n",
    "        |  Aggregation & Summarization  \n",
    "        v  Reduced: {silver_count - gold_count:,} records ({silver_to_gold_reduction:.1f}%)\n",
    "\n",
    "GOLD LAYER (Analytics-Ready)\n",
    "   Records: {gold_count:,}\n",
    "   Format: Daily summaries & health scores\n",
    "   Purpose: Dashboard & analytics\n",
    "\n",
    "OVERALL DATA REDUCTION: {total_reduction:.1f}%\n",
    "({bronze_count:,} -> {gold_count:,} records)\n",
    "\"\"\"\n",
    "\n",
    "ax2.text(0.05, 0.95, flow_text, transform=ax2.transAxes, fontsize=11,\n",
    "         verticalalignment='top',\n",
    "         bbox=dict(boxstyle=\"round,pad=0.8\", facecolor='lightblue', alpha=0.1))\n",
    "\n",
    "plt.tight_layout()\n",
    "plt.show()\n",
    "\n",
    "# Print detailed summary\n",
    "print(f\"PIPELINE STATISTICS:\")\n",
    "print(f\"   • Bronze Layer: {bronze_count:,} records\")\n",
    "print(f\"   • Silver Layer: {silver_count:,} records ({bronze_to_silver_reduction:.1f}% reduction)\")\n",
    "print(f\"   • Gold Layer: {gold_count:,} records ({silver_to_gold_reduction:.1f}% further reduction)\")\n",
    "print(f\"\\nTRANSFORMATION EFFICIENCY:\")\n",
    "print(f\"   • Data cleaning removed: {bronze_count - silver_count:,} invalid/duplicate records\")\n",
    "print(f\"   • Aggregation condensed: {silver_count - gold_count:,} records into daily summaries\")\n",
    "print(f\"   • Overall compression ratio: {bronze_count/gold_count:.1f}:1\")\n",
    "print(f\"   • Final dataset size: {total_reduction:.1f}% smaller than raw input\")"
   ]
  },
  {
   "cell_type": "markdown",
   "metadata": {
    "application/vnd.databricks.v1+cell": {
     "cellMetadata": {
      "byteLimit": 2048000,
      "rowLimit": 10000
     },
     "inputWidgets": {},
     "nuid": "2296ede2-cac0-4b78-b485-372a7bff80f3",
     "showTitle": false,
     "tableResultSettingsMap": {},
     "title": ""
    }
   },
   "source": [
    "## \uD83D\uDCCA Health Data Analytics & Visualizations\n",
    "\n",
    "Now we can use our Gold layer data to create insightful visualizations and analyses."
   ]
  },
  {
   "cell_type": "code",
   "execution_count": 0,
   "metadata": {
    "application/vnd.databricks.v1+cell": {
     "cellMetadata": {
      "byteLimit": 2048000,
      "rowLimit": 10000
     },
     "inputWidgets": {},
     "nuid": "744ff907-c136-4f22-be4f-4418c6d5bb13",
     "showTitle": false,
     "tableResultSettingsMap": {},
     "title": ""
    }
   },
   "outputs": [
    {
     "output_type": "display_data",
     "data": {
      "image/png": "[encoded data removed]",
      "text/plain": [
       "<Figure size 1800x1200 with 6 Axes>"
      ]
     },
     "metadata": {},
     "output_type": "display_data"
    },
    {
     "output_type": "stream",
     "name": "stdout",
     "output_type": "stream",
     "text": [
      "Dashboard complete! Analyzed 1,142 records from 563 days.\n"
     ]
    }
   ],
   "source": [
    "import matplotlib.pyplot as plt\n",
    "import pandas as pd\n",
    "import numpy as np\n",
    "\n",
    "# Simple styling\n",
    "plt.style.use('default')\n",
    "COLORS = ['#2E86AB', '#A23B72', '#F18F01', '#C73E1D', '#85C1E9', '#90EE90']\n",
    "\n",
    "# Get clean health data\n",
    "health_summary = spark.sql(\"\"\"\n",
    "    SELECT activity_date, metric_name, metric_category, avg_value, health_score, \n",
    "           is_weekend, measurement_count, performance_trend, month\n",
    "    FROM health_data.gold.daily_health_summary\n",
    "    WHERE activity_date >= '2024-01-01' AND metric_category IN ('Vitals', 'Activity', 'Body')\n",
    "      AND health_score IS NOT NULL AND avg_value IS NOT NULL\n",
    "    ORDER BY activity_date\n",
    "\"\"\").toPandas()\n",
    "\n",
    "if len(health_summary) > 0:\n",
    "    health_summary = health_summary.dropna(subset=['health_score', 'avg_value'])\n",
    "    health_summary['activity_date'] = pd.to_datetime(health_summary['activity_date'])\n",
    "    \n",
    "    fig, axes = plt.subplots(2, 3, figsize=(18, 12))\n",
    "    fig.suptitle('Health Analytics Dashboard 2024', fontsize=20, fontweight='bold', y=0.98)\n",
    "    \n",
    "    categories = health_summary['metric_category'].unique()\n",
    "    \n",
    "    # 1. Monthly Health Trends\n",
    "    ax = axes[0, 0]\n",
    "    for i, cat in enumerate(categories):\n",
    "        monthly = health_summary[health_summary['metric_category'] == cat].groupby('month')['health_score'].mean()\n",
    "        if len(monthly) > 0:\n",
    "            ax.plot(monthly.index, monthly.values, marker='o', linewidth=2, \n",
    "                   label=cat, color=COLORS[i])\n",
    "    ax.set_title('Monthly Health Trends', fontweight='bold')\n",
    "    ax.set_ylabel('Health Score')\n",
    "    ax.legend()\n",
    "    ax.grid(True, alpha=0.3)\n",
    "    \n",
    "    # 2. Weekend vs Weekday\n",
    "    ax = axes[0, 1]\n",
    "    weekend_data, weekday_data, cat_names = [], [], []\n",
    "    for cat in categories:\n",
    "        cat_data = health_summary[health_summary['metric_category'] == cat]\n",
    "        weekend = cat_data[cat_data['is_weekend'] == True]['health_score'].mean()\n",
    "        weekday = cat_data[cat_data['is_weekend'] == False]['health_score'].mean()\n",
    "        if not pd.isna(weekend) and not pd.isna(weekday):\n",
    "            weekend_data.append(weekend)\n",
    "            weekday_data.append(weekday)\n",
    "            cat_names.append(cat)\n",
    "    \n",
    "    if cat_names:\n",
    "        x = np.arange(len(cat_names))\n",
    "        ax.bar(x - 0.2, weekday_data, 0.4, label='Weekday', color=COLORS[0], alpha=0.8)\n",
    "        ax.bar(x + 0.2, weekend_data, 0.4, label='Weekend', color=COLORS[1], alpha=0.8)\n",
    "        ax.set_title('Weekend vs Weekday', fontweight='bold')\n",
    "        ax.set_xticks(x)\n",
    "        ax.set_xticklabels(cat_names)\n",
    "        ax.legend()\n",
    "        ax.grid(True, alpha=0.3, axis='y')\n",
    "    \n",
    "    # 3. Heart Rate Distribution\n",
    "    ax = axes[0, 2]\n",
    "    hr_data = health_summary[health_summary['metric_name'] == 'HeartRate']['avg_value'].dropna()\n",
    "    if len(hr_data) > 0:\n",
    "        ax.hist(hr_data, bins=15, alpha=0.7, color=COLORS[2], edgecolor='black')\n",
    "        ax.axvline(hr_data.mean(), color='red', linestyle='--', linewidth=2, \n",
    "                  label=f'Mean: {hr_data.mean():.0f} bpm')\n",
    "        ax.set_title('Heart Rate Distribution', fontweight='bold')\n",
    "        ax.set_xlabel('Heart Rate (bpm)')\n",
    "        ax.legend()\n",
    "        ax.grid(True, alpha=0.3, axis='y')\n",
    "    else:\n",
    "        ax.text(0.5, 0.5, 'No Heart Rate Data', ha='center', va='center', transform=ax.transAxes)\n",
    "    \n",
    "    # 4. Health Score Distribution by Category\n",
    "    ax = axes[1, 0]\n",
    "    cat_scores = [health_summary[health_summary['metric_category'] == cat]['health_score'].dropna() \n",
    "                  for cat in categories]\n",
    "    cat_scores = [scores for scores in cat_scores if len(scores) > 0]\n",
    "    \n",
    "    if cat_scores:\n",
    "        bp = ax.boxplot(cat_scores, labels=categories[:len(cat_scores)], patch_artist=True)\n",
    "        for patch, color in zip(bp['boxes'], COLORS):\n",
    "            patch.set_facecolor(color)\n",
    "            patch.set_alpha(0.7)\n",
    "        ax.set_title('Score Distribution by Category', fontweight='bold')\n",
    "        ax.set_ylabel('Health Score')\n",
    "        ax.grid(True, alpha=0.3, axis='y')\n",
    "    \n",
    "    # 5. Weekly Activity Trends\n",
    "    ax = axes[1, 1]\n",
    "    activity_data = health_summary[health_summary['metric_category'] == 'Activity'].copy()\n",
    "    if len(activity_data) > 0:\n",
    "        activity_data['week'] = activity_data['activity_date'].dt.isocalendar().week\n",
    "        weekly = activity_data.groupby('week')['health_score'].mean().dropna()\n",
    "        if len(weekly) > 1:\n",
    "            ax.plot(weekly.index, weekly.values, color=COLORS[0], linewidth=2, marker='o')\n",
    "            ax.set_title('Weekly Activity Trends', fontweight='bold')\n",
    "            ax.set_xlabel('Week')\n",
    "            ax.set_ylabel('Health Score')\n",
    "            ax.grid(True, alpha=0.3)\n",
    "        else:\n",
    "            ax.text(0.5, 0.5, 'Insufficient Activity Data', ha='center', va='center', transform=ax.transAxes)\n",
    "    else:\n",
    "        ax.text(0.5, 0.5, 'No Activity Data', ha='center', va='center', transform=ax.transAxes)\n",
    "    \n",
    "    # 6. Summary Stats\n",
    "    ax = axes[1, 2]\n",
    "    ax.axis('off')\n",
    "    \n",
    "    total_days = len(health_summary['activity_date'].unique())\n",
    "    avg_score = health_summary['health_score'].mean()\n",
    "    best_cat = health_summary.groupby('metric_category')['health_score'].mean().idxmax()\n",
    "    hr_avg = health_summary[health_summary['metric_name'] == 'HeartRate']['avg_value'].mean()\n",
    "    \n",
    "    summary = f\"\"\"HEALTH SUMMARY 2024\n",
    "{'='*20}\n",
    "\n",
    "Days Tracked: {total_days}\n",
    "Records: {len(health_summary):,}\n",
    "Avg Score: {avg_score:.1f}/100\n",
    "Best Category: {best_cat}\n",
    "Avg Heart Rate: {hr_avg:.0f} bpm\n",
    "\n",
    "Performance: {'Excellent' if avg_score >= 85 else 'Good' if avg_score >= 75 else 'Fair'}\n",
    "Coverage: {(total_days/365)*100:.0f}% of year\"\"\"\n",
    "    \n",
    "    ax.text(0.05, 0.95, summary, transform=ax.transAxes, fontsize=11, \n",
    "           verticalalignment='top', fontfamily='monospace',\n",
    "           bbox=dict(boxstyle=\"round,pad=0.5\", facecolor='lightgray', alpha=0.8))\n",
    "    \n",
    "    plt.tight_layout()\n",
    "    plt.subplots_adjust(top=0.92)\n",
    "    plt.show()\n",
    "    \n",
    "    print(f\"Dashboard complete! Analyzed {len(health_summary):,} records from {total_days} days.\")\n",
    "\n",
    "else:\n",
    "    print(\"No health data found.\")"
   ]
  },
  {
   "cell_type": "markdown",
   "metadata": {
    "application/vnd.databricks.v1+cell": {
     "cellMetadata": {
      "byteLimit": 2048000,
      "rowLimit": 10000
     },
     "inputWidgets": {},
     "nuid": "ed1e2e23-c722-47b7-a80a-9dd39a4088aa",
     "showTitle": false,
     "tableResultSettingsMap": {},
     "title": ""
    }
   },
   "source": [
    "## \uD83D\uDD0D Advanced SQL Analytics on the Gold Layer\n",
    "\n",
    "Demonstrate powerful SQL analytics capabilities on our well-structured Gold layer data.\n"
   ]
  },
  {
   "cell_type": "code",
   "execution_count": 0,
   "metadata": {
    "application/vnd.databricks.v1+cell": {
     "cellMetadata": {
      "byteLimit": 2048000,
      "implicitDf": true,
      "rowLimit": 10000
     },
     "inputWidgets": {},
     "nuid": "e092aa7a-8de5-4c37-bee1-172b2d20554d",
     "showTitle": false,
     "tableResultSettingsMap": {},
     "title": ""
    }
   },
   "outputs": [
    {
     "output_type": "display_data",
     "data": {
      "text/html": [
       "<style scoped>\n",
       "  .table-result-container {\n",
       "    max-height: 300px;\n",
       "    overflow: auto;\n",
       "  }\n",
       "  table, th, td {\n",
       "    border: 1px solid black;\n",
       "    border-collapse: collapse;\n",
       "  }\n",
       "  th, td {\n",
       "    padding: 5px;\n",
       "  }\n",
       "  th {\n",
       "    text-align: left;\n",
       "  }\n",
       "</style><div class='table-result-container'><table class='table-result'><thead style='background-color: white'><tr><th>section</th><th>metric</th><th>value</th><th>insight</th></tr></thead><tbody><tr><td>\uD83C\uDFE5 OVERALL HEALTH REPORT</td><td></td><td></td><td></td></tr><tr><td>Health Score Overview</td><td>Overall Health Score</td><td>72.9/100</td><td>\uD83D\uDFE0 Fair - Consider lifestyle changes</td></tr><tr><td>Activity Performance</td><td>Step Count Performance</td><td>50.0/100</td><td>\uD83D\uDD34 Below recommended activity levels</td></tr><tr><td>Cardiovascular Health</td><td>Heart Rate Assessment</td><td>94.4/100</td><td>\uD83D\uDFE2 Optimal heart rate (AHA guidelines)</td></tr><tr><td>Lifestyle Patterns</td><td>Weekend vs Weekday</td><td>0.6 point difference</td><td>\uD83D\uDFE2 Consistent activity pattern throughout week</td></tr><tr><td>Data Quality</td><td>Tracking Consistency</td><td>75 days in last 90</td><td>\uD83D\uDFE2 Excellent tracking consistency</td></tr></tbody></table></div>"
      ]
     },
     "metadata": {
      "application/vnd.databricks.v1+output": {
       "addedWidgets": {},
       "aggData": [],
       "aggError": "",
       "aggOverflow": false,
       "aggSchema": [],
       "aggSeriesLimitReached": false,
       "aggType": "",
       "arguments": {},
       "columnCustomDisplayInfos": {},
       "data": [
        [
         "\uD83C\uDFE5 OVERALL HEALTH REPORT",
         "",
         "",
         ""
        ],
        [
         "Health Score Overview",
         "Overall Health Score",
         "72.9/100",
         "\uD83D\uDFE0 Fair - Consider lifestyle changes"
        ],
        [
         "Activity Performance",
         "Step Count Performance",
         "50.0/100",
         "\uD83D\uDD34 Below recommended activity levels"
        ],
        [
         "Cardiovascular Health",
         "Heart Rate Assessment",
         "94.4/100",
         "\uD83D\uDFE2 Optimal heart rate (AHA guidelines)"
        ],
        [
         "Lifestyle Patterns",
         "Weekend vs Weekday",
         "0.6 point difference",
         "\uD83D\uDFE2 Consistent activity pattern throughout week"
        ],
        [
         "Data Quality",
         "Tracking Consistency",
         "75 days in last 90",
         "\uD83D\uDFE2 Excellent tracking consistency"
        ]
       ],
       "datasetInfos": [
        {
         "name": "_sqldf",
         "schema": {
          "fields": [
           {
            "metadata": {},
            "name": "section",
            "nullable": false,
            "type": "string"
           },
           {
            "metadata": {},
            "name": "metric",
            "nullable": false,
            "type": "string"
           },
           {
            "metadata": {},
            "name": "value",
            "nullable": true,
            "type": "string"
           },
           {
            "metadata": {},
            "name": "insight",
            "nullable": false,
            "type": "string"
           }
          ],
          "type": "struct"
         },
         "tableIdentifier": null,
         "typeStr": "pyspark.sql.connect.dataframe.DataFrame"
        }
       ],
       "dbfsResultPath": null,
       "isJsonSchema": true,
       "metadata": {
        "createTempViewForImplicitDf": true,
        "dataframeName": "_sqldf",
        "executionCount": 20
       },
       "overflow": false,
       "plotOptions": {
        "customPlotOptions": {},
        "displayType": "table",
        "pivotAggregation": null,
        "pivotColumns": null,
        "xColumns": null,
        "yColumns": null
       },
       "removedWidgets": [],
       "schema": [
        {
         "metadata": "{}",
         "name": "section",
         "type": "\"string\""
        },
        {
         "metadata": "{}",
         "name": "metric",
         "type": "\"string\""
        },
        {
         "metadata": "{}",
         "name": "value",
         "type": "\"string\""
        },
        {
         "metadata": "{}",
         "name": "insight",
         "type": "\"string\""
        }
       ],
       "type": "table"
      }
     },
     "output_type": "display_data"
    }
   ],
   "source": [
    "%sql\n",
    "-- Executive Health Summary: Key insights at a glance\n",
    "SELECT \n",
    "    '\uD83C\uDFE5 OVERALL HEALTH REPORT' AS section,\n",
    "    '' AS metric,\n",
    "    '' AS value,\n",
    "    '' AS insight\n",
    "\n",
    "UNION ALL\n",
    "\n",
    "SELECT \n",
    "    'Health Score Overview',\n",
    "    'Overall Health Score',\n",
    "    ROUND(AVG(health_score), 1) || '/100',\n",
    "    CASE \n",
    "        WHEN AVG(health_score) >= 90 THEN '\uD83D\uDFE2 Excellent - Following medical guidelines'\n",
    "        WHEN AVG(health_score) >= 80 THEN '\uD83D\uDFE1 Good - Room for minor improvements'\n",
    "        WHEN AVG(health_score) >= 70 THEN '\uD83D\uDFE0 Fair - Consider lifestyle changes'\n",
    "        ELSE '\uD83D\uDD34 Needs attention - Consult healthcare provider'\n",
    "    END\n",
    "FROM health_data.gold.daily_health_summary\n",
    "WHERE activity_date >= DATE_SUB(CURRENT_DATE(), 90)\n",
    "\n",
    "UNION ALL\n",
    "\n",
    "SELECT \n",
    "    'Activity Performance',\n",
    "    'Step Count Performance',\n",
    "    ROUND(AVG(CASE WHEN metric_name = 'StepCount' THEN health_score END), 1) || '/100',\n",
    "    CASE \n",
    "        WHEN AVG(CASE WHEN metric_name = 'StepCount' THEN avg_value END) >= 10000 THEN '\uD83D\uDFE2 Meeting CDC recommendations (10k+ steps)'\n",
    "        WHEN AVG(CASE WHEN metric_name = 'StepCount' THEN avg_value END) >= 8000 THEN '\uD83D\uDFE1 Good activity level (8k+ steps)'\n",
    "        WHEN AVG(CASE WHEN metric_name = 'StepCount' THEN avg_value END) >= 6000 THEN '\uD83D\uDFE0 Moderate activity (6k+ steps)'\n",
    "        ELSE '\uD83D\uDD34 Below recommended activity levels'\n",
    "    END\n",
    "FROM health_data.gold.daily_health_summary\n",
    "WHERE metric_name = 'StepCount' AND activity_date >= DATE_SUB(CURRENT_DATE(), 90)\n",
    "\n",
    "UNION ALL\n",
    "\n",
    "SELECT \n",
    "    'Cardiovascular Health',\n",
    "    'Heart Rate Assessment',\n",
    "    ROUND(AVG(CASE WHEN metric_name = 'HeartRate' THEN health_score END), 1) || '/100',\n",
    "    CASE \n",
    "        WHEN AVG(CASE WHEN metric_name = 'HeartRate' THEN avg_value END) BETWEEN 60 AND 80 THEN '\uD83D\uDFE2 Optimal heart rate (AHA guidelines)'\n",
    "        WHEN AVG(CASE WHEN metric_name = 'HeartRate' THEN avg_value END) BETWEEN 50 AND 100 THEN '\uD83D\uDFE1 Normal range for your fitness level'\n",
    "        ELSE '\uD83D\uDFE0 Consider discussing with healthcare provider'\n",
    "    END\n",
    "FROM health_data.gold.daily_health_summary\n",
    "WHERE metric_name = 'HeartRate' AND activity_date >= DATE_SUB(CURRENT_DATE(), 90)\n",
    "\n",
    "UNION ALL\n",
    "\n",
    "SELECT \n",
    "    'Lifestyle Patterns',\n",
    "    'Weekend vs Weekday',\n",
    "    ROUND(\n",
    "        AVG(CASE WHEN is_weekend THEN health_score END) - \n",
    "        AVG(CASE WHEN NOT is_weekend THEN health_score END), 1\n",
    "    ) || ' point difference',\n",
    "    CASE \n",
    "        WHEN AVG(CASE WHEN is_weekend THEN health_score END) > AVG(CASE WHEN NOT is_weekend THEN health_score END) + 2 \n",
    "        THEN '\uD83D\uDFE2 More active on weekends - good work-life balance'\n",
    "        WHEN AVG(CASE WHEN NOT is_weekend THEN health_score END) > AVG(CASE WHEN is_weekend THEN health_score END) + 2 \n",
    "        THEN '\uD83D\uDFE1 More active on weekdays - consider weekend activities'\n",
    "        ELSE '\uD83D\uDFE2 Consistent activity pattern throughout week'\n",
    "    END\n",
    "FROM health_data.gold.daily_health_summary\n",
    "WHERE activity_date >= DATE_SUB(CURRENT_DATE(), 90)\n",
    "\n",
    "UNION ALL\n",
    "\n",
    "SELECT \n",
    "    'Data Quality',\n",
    "    'Tracking Consistency',\n",
    "    COUNT(DISTINCT activity_date) || ' days in last 90',\n",
    "    CASE \n",
    "        WHEN COUNT(DISTINCT activity_date) >= 75 THEN '\uD83D\uDFE2 Excellent tracking consistency'\n",
    "        WHEN COUNT(DISTINCT activity_date) >= 60 THEN '\uD83D\uDFE1 Good tracking consistency'\n",
    "        WHEN COUNT(DISTINCT activity_date) >= 30 THEN '\uD83D\uDFE0 Moderate tracking - room for improvement'\n",
    "        ELSE '\uD83D\uDD34 Limited tracking - consider more consistent monitoring'\n",
    "    END\n",
    "FROM health_data.gold.daily_health_summary\n",
    "WHERE activity_date >= DATE_SUB(CURRENT_DATE(), 90)\n",
    "\n",
    "ORDER BY \n",
    "    CASE section \n",
    "        WHEN '\uD83C\uDFE5 OVERALL HEALTH REPORT' THEN 1\n",
    "        WHEN 'Health Score Overview' THEN 2\n",
    "        WHEN 'Activity Performance' THEN 3\n",
    "        WHEN 'Cardiovascular Health' THEN 4\n",
    "        WHEN 'Lifestyle Patterns' THEN 5\n",
    "        WHEN 'Data Quality' THEN 6\n",
    "    END;"
   ]
  },
  {
   "cell_type": "markdown",
   "metadata": {
    "application/vnd.databricks.v1+cell": {
     "cellMetadata": {
      "byteLimit": 2048000,
      "rowLimit": 10000
     },
     "inputWidgets": {},
     "nuid": "abb984ca-c637-4400-be33-d29cba6686ca",
     "showTitle": false,
     "tableResultSettingsMap": {},
     "title": ""
    }
   },
   "source": [
    "## \uD83C\uDF89 Congratulations!\n",
    "\n",
    "You've successfully built:\n",
    "\n",
    "- **\uD83C\uDFDB️ Unity Catalog Integration**: 3-level namespace with proper governance\n",
    "- **\uD83C\uDFD7️ Medallion Architecture**: Bronze → Silver → Gold layers with Delta tables\n",
    "- **⚡ Spark SQL**: Powerful transformations and analytics using SQL\n",
    "- **\uD83D\uDD3A Delta Lake Features**: Time travel, optimization, schema evolution"
   ]
  },
  {
   "cell_type": "markdown",
   "metadata": {
    "application/vnd.databricks.v1+cell": {
     "cellMetadata": {
      "byteLimit": 2048000,
      "rowLimit": 10000
     },
     "inputWidgets": {},
     "nuid": "a44f0319-3e10-45d6-b6a7-f2ae6e152994",
     "showTitle": false,
     "tableResultSettingsMap": {},
     "title": ""
    }
   },
   "source": [
    "## \uD83C\uDFDB️ Unity Catalog Management\n",
    "\n",
    "Unity Catalog provides centralized governance and security for your data assets."
   ]
  },
  {
   "cell_type": "code",
   "execution_count": 0,
   "metadata": {
    "application/vnd.databricks.v1+cell": {
     "cellMetadata": {
      "byteLimit": 2048000,
      "implicitDf": true,
      "rowLimit": 10000
     },
     "inputWidgets": {},
     "nuid": "d9a6fd0d-2f68-452f-8d64-225c66cd02e5",
     "showTitle": false,
     "tableResultSettingsMap": {},
     "title": ""
    }
   },
   "outputs": [],
   "source": [
    "%sql\n",
    "-- Creating a view for easier access\n",
    "CREATE OR REPLACE VIEW health_data.gold.vitals_summary AS\n",
    "SELECT\n",
    "    activity_date,\n",
    "    metric_name,\n",
    "    avg_value,\n",
    "    min_value,\n",
    "    max_value,\n",
    "    health_score,\n",
    "    is_weekend\n",
    "FROM health_data.gold.daily_health_summary\n",
    "WHERE metric_category = 'Vitals'"
   ]
  },
  {
   "cell_type": "code",
   "execution_count": 0,
   "metadata": {
    "application/vnd.databricks.v1+cell": {
     "cellMetadata": {
      "byteLimit": 2048000,
      "implicitDf": true,
      "rowLimit": 10000
     },
     "inputWidgets": {},
     "nuid": "fa01d287-0e7d-43c4-b0b7-b2110a862c4d",
     "showTitle": false,
     "tableResultSettingsMap": {},
     "title": ""
    }
   },
   "outputs": [
    {
     "output_type": "display_data",
     "data": {
      "text/html": [
       "<style scoped>\n",
       "  .table-result-container {\n",
       "    max-height: 300px;\n",
       "    overflow: auto;\n",
       "  }\n",
       "  table, th, td {\n",
       "    border: 1px solid black;\n",
       "    border-collapse: collapse;\n",
       "  }\n",
       "  th, td {\n",
       "    padding: 5px;\n",
       "  }\n",
       "  th {\n",
       "    text-align: left;\n",
       "  }\n",
       "</style><div class='table-result-container'><table class='table-result'><thead style='background-color: white'><tr><th>database</th><th>tableName</th><th>isTemporary</th></tr></thead><tbody><tr><td>gold</td><td>daily_health_summary</td><td>false</td></tr><tr><td>gold</td><td>fitness_mart</td><td>false</td></tr><tr><td>gold</td><td>vitals_summary</td><td>false</td></tr><tr><td></td><td>_sqldf</td><td>true</td></tr><tr><td></td><td>raw_health_records</td><td>true</td></tr></tbody></table></div>"
      ]
     },
     "metadata": {
      "application/vnd.databricks.v1+output": {
       "addedWidgets": {},
       "aggData": [],
       "aggError": "",
       "aggOverflow": false,
       "aggSchema": [],
       "aggSeriesLimitReached": false,
       "aggType": "",
       "arguments": {},
       "columnCustomDisplayInfos": {},
       "data": [
        [
         "gold",
         "daily_health_summary",
         false
        ],
        [
         "gold",
         "fitness_mart",
         false
        ],
        [
         "gold",
         "vitals_summary",
         false
        ],
        [
         "",
         "_sqldf",
         true
        ],
        [
         "",
         "raw_health_records",
         true
        ]
       ],
       "datasetInfos": [
        {
         "name": "_sqldf",
         "schema": {
          "fields": [
           {
            "metadata": {},
            "name": "database",
            "nullable": false,
            "type": "string"
           },
           {
            "metadata": {},
            "name": "tableName",
            "nullable": false,
            "type": "string"
           },
           {
            "metadata": {},
            "name": "isTemporary",
            "nullable": false,
            "type": "boolean"
           }
          ],
          "type": "struct"
         },
         "tableIdentifier": null,
         "typeStr": "pyspark.sql.connect.dataframe.DataFrame"
        }
       ],
       "dbfsResultPath": null,
       "isJsonSchema": true,
       "metadata": {
        "createTempViewForImplicitDf": true,
        "dataframeName": "_sqldf",
        "executionCount": 22
       },
       "overflow": false,
       "plotOptions": {
        "customPlotOptions": {},
        "displayType": "table",
        "pivotAggregation": null,
        "pivotColumns": null,
        "xColumns": null,
        "yColumns": null
       },
       "removedWidgets": [],
       "schema": [
        {
         "metadata": "{}",
         "name": "database",
         "type": "\"string\""
        },
        {
         "metadata": "{}",
         "name": "tableName",
         "type": "\"string\""
        },
        {
         "metadata": "{}",
         "name": "isTemporary",
         "type": "\"boolean\""
        }
       ],
       "type": "table"
      }
     },
     "output_type": "display_data"
    }
   ],
   "source": [
    "%sql\n",
    "    -- Example of setting up access control (commented out as this is a tutorial)\n",
    "    -- GRANT SELECT ON TABLE health_data.gold.vitals_summary TO `analysts`\n",
    "    -- GRANT SELECT ON SCHEMA health_data.gold TO `data_scientists`\n",
    "    -- GRANT MODIFY ON SCHEMA health_data.bronze TO `data_engineers`\n",
    "    \n",
    "    -- Just showing these commands for educational purposes\n",
    "    SHOW TABLES IN health_data.gold\n"
   ]
  }
 ],
 "metadata": {
  "application/vnd.databricks.v1+notebook": {
   "computePreferences": {
    "hardware": {
     "accelerator": null,
     "gpuPoolId": null,
     "memory": null
    }
   },
   "dashboards": [],
   "environmentMetadata": {
    "base_environment": "",
    "environment_version": "3"
   },
   "inputWidgetPreferences": null,
   "language": "python",
   "notebookMetadata": {
    "mostRecentlyExecutedCommandWithImplicitDF": {
     "commandId": 6147811869185996,
     "dataframes": [
      "_sqldf"
     ]
    },
    "pythonIndentUnit": 4
   },
   "notebookName": "Health Analytics Demo",
   "widgets": {}
  },
  "language_info": {
   "name": "python"
  }
 },
 "nbformat": 4,
 "nbformat_minor": 0
}